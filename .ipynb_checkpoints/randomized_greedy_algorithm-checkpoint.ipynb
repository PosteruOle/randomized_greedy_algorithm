{
 "cells": [
  {
   "cell_type": "markdown",
   "id": "4f1cf077",
   "metadata": {},
   "source": [
    "# Randomized Greedy Algorithm\n",
    "\n",
    "Reference paper: Michael Ovelgonne and Andreas Geyer-Schulz, *Cluster Cores and Modularity Maximization*, IEEE International Conference on Data Mining Workshops, 2010"
   ]
  },
  {
   "cell_type": "markdown",
   "id": "0c2df830",
   "metadata": {},
   "source": [
    "Let $G = (V, E)$ be an undirected, loop-free graph and $C = \\{C_1, . . . , C_p\\}$ a non-overlapping clustering, i.e. a clustering of the vertices of the graph into groups $C_i$ so that $\\forall i, j : i \\neq j \\implies C_i \\cap C_j = \\emptyset$ and $\\cup_i C_i = V$. We denote the adjacency matrix of $G$ as $M$ and the element of $M$ in the\n",
    "$i$-th row and $j$-th column as $m_{ij}$ , where $m_{ij} = m_{ji} = 1$ if $(v_i, v_j) \\in E$ and otherwise $m_{ij} = m_{ji} = 0$. The modularity $Q$ of the clustering $C$ is\n",
    "\n",
    "$$Q = \\sum_i (e_{ii} - a_i^2)$$\n",
    "with\n",
    "$$e_{ij} = \\frac{\\sum_{v_x \\in C_i}\\sum_{v_y \\in C_j} m_{xy}}{\\sum_{v_x \\in V}\\sum_{v_y \\in V} m_{xy}}$$\n",
    "and\n",
    "$$a_i = \\sum_j e_{ij}.$$\n",
    "\n",
    "Objective: Find clastering $C$ such that modularity $Q$ is maximized."
   ]
  },
  {
   "cell_type": "code",
   "execution_count": 3,
   "id": "d5bba78f",
   "metadata": {},
   "outputs": [],
   "source": [
    "import numpy as np\n",
    "import networkx as nx\n",
    "from matplotlib import pyplot as plt"
   ]
  },
  {
   "cell_type": "markdown",
   "id": "802e8bb5",
   "metadata": {},
   "source": [
    "### Loading instances"
   ]
  },
  {
   "cell_type": "code",
   "execution_count": 4,
   "id": "4c279916",
   "metadata": {},
   "outputs": [],
   "source": [
    "def load_graph(file_path):\n",
    "    with open(file_path, 'r') as file:\n",
    "        lines = file.readlines()\n",
    "        \n",
    "        tokens = lines[0].split()\n",
    "        n, m = int(tokens[0]), int(tokens[1])\n",
    "                        \n",
    "        G = nx.Graph()\n",
    "    \n",
    "        nodes = np.arange(1, n + 1)\n",
    "        G.add_nodes_from(nodes)\n",
    "        \n",
    "        for i in range(1, n + 1):\n",
    "            neighbours = map(int, lines[i].split())\n",
    "            for j in neighbours:\n",
    "                G.add_edge(i, j)\n",
    "                \n",
    "        return G"
   ]
  },
  {
   "cell_type": "code",
   "execution_count": 5,
   "id": "ec6660e1",
   "metadata": {},
   "outputs": [],
   "source": [
    "file_paths = ['Instances/karate.graph', 'Instances/football.graph', 'Instances/netscience.graph', 'Instances/PGPgiantcompo.graph']\n",
    "graphs = []\n",
    "\n",
    "for file_path in file_paths:\n",
    "        graphs.append(load_graph(file_path))"
   ]
  },
  {
   "cell_type": "markdown",
   "id": "50a10068",
   "metadata": {},
   "source": [
    "### Modularity function"
   ]
  },
  {
   "cell_type": "code",
   "execution_count": 6,
   "id": "9cad4419",
   "metadata": {},
   "outputs": [],
   "source": [
    "def number_of_connecting_edges(G, C, i, j):\n",
    "    res = 0\n",
    "    for u in C[i]:\n",
    "        for v in C[j]:\n",
    "            if G.has_edge(u, v):\n",
    "                res += 1\n",
    "    return res\n",
    "\n",
    "def number_of_claster_edges(G, C, i):\n",
    "    res = 0\n",
    "    number_of_clasters = len(C)\n",
    "    \n",
    "    #for j in range(1, number_of_clasters + 1):\n",
    "    #    res += number_of_connecting_edges(G, C, i, j)\n",
    "    \n",
    "    for j in C:\n",
    "        res += number_of_connecting_edges(G, C, i, j)\n",
    "    \n",
    "    return res\n",
    "\n",
    "def fraction_of_connecting_edges(G, C, i, j):\n",
    "    return number_of_connecting_edges(G, C, i, j) / G.number_of_edges()\n",
    "        \n",
    "def fraction_of_claster_edges(G, C, i):\n",
    "    return number_of_claster_edges(G, C, i) / G.number_of_edges()\n",
    "\n",
    "def modularity(G, C):\n",
    "    res = 0.0\n",
    "    number_of_clasters = len(C)\n",
    "    \n",
    "    #for i in range(1, number_of_clasters + 1):\n",
    "    #    res += (fraction_of_connecting_edges(G, C, i, i) - fraction_of_claster_edges(G, C, i))**2\n",
    "    \n",
    "    for i in C:\n",
    "        res += (fraction_of_connecting_edges(G, C, i, i) - fraction_of_claster_edges(G, C, i))**2\n",
    "    \n",
    "    return res"
   ]
  },
  {
   "cell_type": "code",
   "execution_count": 7,
   "id": "0b09e4ae",
   "metadata": {},
   "outputs": [
    {
     "data": {
      "text/plain": [
       "0.19921104536489145"
      ]
     },
     "execution_count": 7,
     "metadata": {},
     "output_type": "execute_result"
    }
   ],
   "source": [
    "G = graphs[0]\n",
    "\n",
    "C = {node: [node] for node in G.nodes()}\n",
    "\n",
    "modularity(G, C)"
   ]
  },
  {
   "cell_type": "markdown",
   "id": "5eff95b8",
   "metadata": {},
   "source": [
    "# Plain Greedy (PG) algorithm"
   ]
  },
  {
   "cell_type": "code",
   "execution_count": 8,
   "id": "e71ef9d9-b7fc-4043-b32f-c5c4468cb925",
   "metadata": {},
   "outputs": [
    {
     "name": "stdout",
     "output_type": "stream",
     "text": [
      "{1: [1], 2: [2], 3: [3], 4: [4], 5: [5], 6: [6], 7: [7], 8: [8], 9: [9], 10: [10], 11: [11], 12: [12], 13: [13], 14: [14], 15: [15], 16: [16], 17: [17], 18: [18], 19: [19], 20: [20], 21: [21], 22: [22], 23: [23], 24: [24], 25: [25], 26: [26], 27: [27], 28: [28], 29: [29], 30: [30], 31: [31], 32: [32], 33: [33], 34: [34]}\n",
      "{1: [1], 2: [2], 3: [3], 4: [4], 5: [5], 6: [6], 7: [7], 8: [8], 9: [9], 10: [10], 11: [11], 12: [12], 13: [13], 14: [14], 15: [15], 16: [16], 17: [17], 18: [18], 19: [19], 20: [20], 21: [21], 22: [22], 23: [23], 24: [24], 25: [25], 26: [26], 27: [27], 28: [28], 29: [29], 30: [30], 31: [31], 32: [32], 33: [33], 34: [34]}\n"
     ]
    }
   ],
   "source": [
    "def has_connecting_edge(G, C, i, j):\n",
    "    if (i not in C.keys()) or (j not in C.keys()):\n",
    "        print('The key you are looking for is removed from the dictionary while merging some clusters!')\n",
    "        return None\n",
    "    \n",
    "    for v in C[i]:\n",
    "        for u in C[j]:\n",
    "            if G.has_edge(u, v):\n",
    "                return True\n",
    "    return False\n",
    "\n",
    "def join_for_plain_greedy(G, C, i, j):\n",
    "    tmp=C[j]\n",
    "    C[i]+=tmp\n",
    "    C.pop(j)\n",
    "    \n",
    "def join(G, C, joins):\n",
    "    for i, j in joins:\n",
    "        join_for_plain_greedy(G, C, i, j)\n",
    "        #tmp=C[pair[1]]\n",
    "        #C[pair[0]]+=tmp\n",
    "        #C.pop(pair[1])\n",
    "\n",
    "C = {node: [node] for node in G.nodes()}\n",
    "#join1(G, C, 1, 2)\n",
    "print(C)\n",
    "#join1(G,C, 3, 16)\n",
    "print(C)"
   ]
  },
  {
   "cell_type": "code",
   "execution_count": 11,
   "id": "e6a83a05-91b7-4024-860b-06862e6df976",
   "metadata": {},
   "outputs": [
    {
     "name": "stdout",
     "output_type": "stream",
     "text": [
      "{1: [1], 2: [2], 3: [3], 4: [4], 5: [5], 6: [6], 7: [7], 8: [8], 9: [9], 10: [10], 11: [11], 12: [12], 13: [13], 14: [14], 15: [15], 16: [16], 17: [17], 18: [18], 19: [19], 20: [20], 21: [21], 22: [22], 23: [23], 24: [24], 25: [25], 26: [26], 27: [27], 28: [28], 29: [29], 30: [30], 31: [31], 32: [32], 33: [33], 34: [34]}\n",
      "----------------------------------------------------------\n",
      "{1: [1, 12, 5, 11, 6, 17, 7, 2, 18, 22, 20, 9, 31, 3, 10, 29, 4, 13, 8, 14, 15, 33, 16, 19, 21, 23, 27, 30, 34, 24, 28, 25, 26, 32]}\n"
     ]
    }
   ],
   "source": [
    "# Initialising clasters\n",
    "C = {node: [node] for node in G.nodes()}\n",
    "print(C)\n",
    "print('----------------------------------------------------------')\n",
    "joins = []\n",
    "modularity_values=[]\n",
    "n=len(C)-1\n",
    "for _ in range(n):\n",
    "    next_join = (0, 0)\n",
    "    max_delta_Q = -float('inf')\n",
    "    modularity_values.append(modularity(G,C))\n",
    "    for i in C:\n",
    "        for j in C:\n",
    "            if i >= j or (i, j) in joins:\n",
    "                continue\n",
    "            if not has_connecting_edge(G, C, i, j):\n",
    "                continue\n",
    "            delta_Q = 2 * (fraction_of_connecting_edges(G, C, i, j) - fraction_of_claster_edges(G, C, i) * fraction_of_claster_edges(G, C, j))\n",
    "            if max_delta_Q < delta_Q:\n",
    "                max_delta_Q = delta_Q\n",
    "                next_join = (i, j)\n",
    "                #join(G, C, i, j)\n",
    "    joins.append(next_join)\n",
    "    if next_join==(0,0):\n",
    "        break\n",
    "    join_for_plain_greedy(G, C, next_join[0], next_join[1])\n",
    "\n",
    "#join(G, C, joins)\n",
    "print(C)"
   ]
  },
  {
   "cell_type": "code",
   "execution_count": 12,
   "id": "b22154bb",
   "metadata": {},
   "outputs": [
    {
     "data": {
      "text/plain": [
       "0.0"
      ]
     },
     "execution_count": 12,
     "metadata": {},
     "output_type": "execute_result"
    }
   ],
   "source": [
    "modularity(G, C)"
   ]
  },
  {
   "cell_type": "code",
   "execution_count": 13,
   "id": "8ceddca6-81b9-4d81-8ab5-eac169872026",
   "metadata": {},
   "outputs": [
    {
     "name": "stdout",
     "output_type": "stream",
     "text": [
      "1\n",
      "[0.19921104536489145, 0.1985535831689677, 0.19592373438527277, 0.19526627218934905, 0.1949375410913872, 0.19230769230769226, 0.1919789612097304, 0.18934911242603547, 0.18869165023011172, 0.18343195266272186, 0.18277449046679814, 0.18211702827087442, 0.1834319526627219, 0.18474687705456935, 0.1840894148586456, 0.18343195266272191, 0.18080210387902698, 0.18014464168310323, 0.1794871794871795, 0.1814595660749507, 0.18080210387902698, 0.18014464168310323, 0.18211702827087442, 0.1623931623931624, 0.16403681788297175, 0.16337935568704803, 0.12919132149901377, 0.13445101906640364, 0.13675213675213668, 0.14924391847468768, 0.1426692965154503, 0.11604207758053908, 0.04733727810650885]\n"
     ]
    },
    {
     "data": {
      "image/png": "[encoded data removed]",
      "text/plain": [
       "<Figure size 640x480 with 1 Axes>"
      ]
     },
     "metadata": {},
     "output_type": "display_data"
    }
   ],
   "source": [
    "l=[1,2,3]\n",
    "print(l[0])\n",
    "print(modularity_values)\n",
    "plt.plot(modularity_values)\n",
    "plt.show()"
   ]
  },
  {
   "cell_type": "code",
   "execution_count": 14,
   "id": "0f7e5477",
   "metadata": {},
   "outputs": [
    {
     "name": "stdout",
     "output_type": "stream",
     "text": [
      "[15, 8, 9, 5, 2, 3, 3, 3, 4, 1, 2, 0, 1, 4, 1, 1, 1, 1, 1, 2, 1, 1, 1, 4, 2, 2, 1, 3, 2, 3, 3, 5, 11, 16]\n"
     ]
    }
   ],
   "source": [
    "#G.nodes()\n",
    "#list(G.neighbors(5))\n",
    "e=[]\n",
    "a=[]\n",
    "for node in G.nodes():\n",
    "    e.append([])\n",
    "    for neighbor in list(G.neighbors(node)):\n",
    "        e[node-1].append(1/(2*len(G.edges())))\n",
    "    sum=0\n",
    "    for x in range(len(e[node-1])):\n",
    "        sum+=x\n",
    "    a.append(x)\n",
    "print(a)    "
   ]
  },
  {
   "cell_type": "markdown",
   "id": "7ee694a0",
   "metadata": {},
   "source": [
    "# Randomized Greedy (RG)"
   ]
  },
  {
   "cell_type": "code",
   "execution_count": 15,
   "id": "8702ca73",
   "metadata": {},
   "outputs": [],
   "source": [
    "import sys\n",
    "import copy\n",
    "import numpy as np\n",
    "import random\n",
    "random.seed(7)"
   ]
  },
  {
   "cell_type": "code",
   "execution_count": 16,
   "id": "39a2f19e",
   "metadata": {},
   "outputs": [
    {
     "name": "stdout",
     "output_type": "stream",
     "text": [
      "0.19921104536489145\n"
     ]
    }
   ],
   "source": [
    "# Initialising our graph!\n",
    "G = graphs[0]\n",
    "\n",
    "C = {node: [node] for node in G.nodes()}\n",
    "\n",
    "print(modularity(G, C))"
   ]
  },
  {
   "cell_type": "code",
   "execution_count": 17,
   "id": "ef2f9672",
   "metadata": {},
   "outputs": [
    {
     "name": "stdout",
     "output_type": "stream",
     "text": [
      "-------------------------------------------------------------------------\n",
      "{1: [1], 2: [2], 3: [3], 4: [4], 5: [5], 6: [6], 7: [7], 8: [8], 9: [9], 10: [10], 11: [11], 12: [12], 13: [13], 14: [14], 15: [15], 16: [16], 17: [17], 18: [18], 19: [19], 20: [20], 21: [21], 22: [22], 23: [23], 24: [24], 25: [25], 26: [26], 27: [27], 28: [28], 29: [29], 30: [30], 31: [31], 32: [32], 33: [33], 34: [34]}\n",
      "-------------------------------------------------------------------------\n",
      "1 2 3 4 5 6 7 8 9 10 11 12 13 14 15 16 17 18 19 20 21 22 23 24 25 26 27 28 29 30 31 32 33 34 -------------------------------------------------------------------------\n",
      "1 2 3 4 5 6 7 8 9 10 11 12 13 14 15 16 17 18 19 20 21 22 23 24 25 26 27 28 29 30 31 32 33 34 "
     ]
    }
   ],
   "source": [
    "print('-------------------------------------------------------------------------')\n",
    "print(C)\n",
    "print('-------------------------------------------------------------------------')\n",
    "for i in C:\n",
    "    print(i, end=' ')\n",
    "print('-------------------------------------------------------------------------')\n",
    "for i in C.keys():\n",
    "    print(i, end=' ')"
   ]
  },
  {
   "cell_type": "code",
   "execution_count": 18,
   "id": "a5432b21",
   "metadata": {},
   "outputs": [],
   "source": [
    "def join_for_randomized_greedy(G, C, i, j):\n",
    "    tmp=C[j]\n",
    "    C[i]+=tmp\n",
    "    C.pop(j)"
   ]
  },
  {
   "cell_type": "code",
   "execution_count": 19,
   "id": "c929ff5b",
   "metadata": {},
   "outputs": [],
   "source": [
    "# This function should pick k different clusters within the graph we are working with \n",
    "# and return the list of indeces of chosen clusters!\n",
    "def pick_k_random_clusters(G, C, k):\n",
    "    set_indexes=set()\n",
    "    result=[]\n",
    "    count = 0\n",
    "    n=len(C.keys())\n",
    "    if k>n:\n",
    "        print('There are not that many clusters in our graph!')\n",
    "        return None\n",
    "    while count < k:\n",
    "        p=random.randint(0, n)\n",
    "        if p not in set_indexes:\n",
    "            set_indexes.add(p)\n",
    "            count+=1\n",
    "            result.append(p)\n",
    "            \n",
    "    result.sort()\n",
    "    \n",
    "    return result  \n",
    "\n",
    "def pick_random_cluster(G, C):\n",
    "    help=list(C.keys())\n",
    "    n=len(C.keys())\n",
    "    return help[random.randint(0, n-1)]"
   ]
  },
  {
   "cell_type": "code",
   "execution_count": 20,
   "id": "4e0835a8",
   "metadata": {},
   "outputs": [
    {
     "name": "stdout",
     "output_type": "stream",
     "text": [
      "[3, 4, 9, 20, 25, 34]\n"
     ]
    }
   ],
   "source": [
    "# Here we just wanted to check the pick_k_random_clusters funtion!\n",
    "k_clusters=pick_k_random_clusters(G, C, 6)\n",
    "print(k_clusters)"
   ]
  },
  {
   "cell_type": "code",
   "execution_count": 21,
   "id": "942d9aa4",
   "metadata": {
    "scrolled": true
   },
   "outputs": [
    {
     "name": "stdout",
     "output_type": "stream",
     "text": [
      "{1: [1], 2: [2], 3: [3], 4: [4], 5: [5], 6: [6], 7: [7], 8: [8], 9: [9], 10: [10], 11: [11], 12: [12], 13: [13], 14: [14], 15: [15], 16: [16], 17: [17], 18: [18], 19: [19], 20: [20], 21: [21], 22: [22], 23: [23], 24: [24], 25: [25], 26: [26], 27: [27], 28: [28], 29: [29], 30: [30], 31: [31], 32: [32], 33: [33], 34: [34]}\n",
      "----------------------------------------------------------\n",
      "Iteration number:  1\n",
      "k =  1\n",
      "Iteration number:  2\n",
      "k =  1\n",
      "Iteration number:  3\n",
      "k =  1\n",
      "Iteration number:  4\n",
      "k =  1\n",
      "Iteration number:  5\n",
      "k =  1\n",
      "Iteration number:  6\n",
      "k =  1\n",
      "Iteration number:  7\n",
      "k =  1\n",
      "Iteration number:  8\n",
      "k =  1\n",
      "Iteration number:  9\n",
      "k =  1\n",
      "Iteration number:  10\n",
      "k =  1\n",
      "Iteration number:  11\n",
      "k =  1\n",
      "Iteration number:  12\n",
      "k =  1\n",
      "Iteration number:  13\n",
      "k =  1\n",
      "Iteration number:  14\n",
      "k =  1\n",
      "Iteration number:  15\n",
      "k =  1\n",
      "Iteration number:  16\n",
      "k =  1\n",
      "Iteration number:  17\n",
      "k =  1\n",
      "Iteration number:  18\n",
      "k =  2\n",
      "Iteration number:  19\n",
      "k =  2\n",
      "Iteration number:  20\n",
      "k =  2\n",
      "Iteration number:  21\n",
      "k =  2\n",
      "Iteration number:  22\n",
      "k =  2\n",
      "Iteration number:  23\n",
      "k =  2\n",
      "Iteration number:  24\n",
      "k =  2\n",
      "Iteration number:  25\n",
      "k =  2\n",
      "Iteration number:  26\n",
      "k =  2\n",
      "Iteration number:  27\n",
      "k =  2\n",
      "Iteration number:  28\n",
      "k =  2\n",
      "Iteration number:  29\n",
      "k =  2\n",
      "Iteration number:  30\n",
      "k =  2\n",
      "Iteration number:  31\n",
      "k =  2\n",
      "Iteration number:  32\n",
      "k =  2\n",
      "Iteration number:  33\n",
      "k =  2\n",
      "{34: [34, 30, 27, 19, 21, 33, 15, 16, 23, 9, 31, 14, 3, 10, 8, 4, 13, 29, 28, 24, 25, 26, 32, 12, 7, 17, 6, 5, 11, 1, 18, 22, 20, 2]}\n"
     ]
    }
   ],
   "source": [
    "# Initialising clasters\n",
    "C = {node: [node] for node in G.nodes()}\n",
    "print(C)\n",
    "print('----------------------------------------------------------')\n",
    "joins = []\n",
    "modularity_values=[]\n",
    "clusters_list=[]\n",
    "deleted=[]\n",
    "count=1\n",
    "n=len(C)\n",
    "for p in range(n-1):\n",
    "    next_join = (0, 0)\n",
    "    max_delta_Q = -float('inf')\n",
    "    if p < n//2:\n",
    "        k=1\n",
    "    else:\n",
    "        k=2\n",
    "    #random_k_clusters=pick_k_random_clusters(G, C, k)    \n",
    "    modularity_values.append(modularity(G, C))\n",
    "    clusters_list.append(copy.deepcopy(C))\n",
    "    print('Iteration number: ', str(count))\n",
    "    print('k = ', str(k))\n",
    "    #for i in random_k_clusters:\n",
    "    for _ in range(k):\n",
    "        i=pick_random_cluster(G, C)\n",
    "        for j in C.keys():\n",
    "            if i==j:\n",
    "                continue\n",
    "                \n",
    "            if not has_connecting_edge(G, C, i, j):\n",
    "                continue\n",
    "                \n",
    "            #print(str(i)+ ' ' +str(j))\n",
    "            \n",
    "            delta_Q = 2 * (fraction_of_connecting_edges(G, C, i, j) - fraction_of_claster_edges(G, C, i) * fraction_of_claster_edges(G, C, j))\n",
    "            if max_delta_Q < delta_Q:\n",
    "                max_delta_Q = delta_Q\n",
    "                next_join = (i, j)\n",
    "    joins.append(next_join)\n",
    "    if next_join==(0,0):\n",
    "        continue\n",
    "    join_for_randomized_greedy(G, C, next_join[0], next_join[1])\n",
    "    count+=1\n",
    "\n",
    "#join(G, C, joins)\n",
    "print(C)"
   ]
  },
  {
   "cell_type": "code",
   "execution_count": 22,
   "id": "55791cc0",
   "metadata": {},
   "outputs": [
    {
     "data": {
      "text/plain": [
       "0.0"
      ]
     },
     "execution_count": 22,
     "metadata": {},
     "output_type": "execute_result"
    }
   ],
   "source": [
    "modularity(G, C)"
   ]
  },
  {
   "cell_type": "code",
   "execution_count": 44,
   "id": "b9089293",
   "metadata": {},
   "outputs": [],
   "source": [
    "def RG(G, C):\n",
    "    joins = []\n",
    "    modularity_values=[]\n",
    "    clusters_list=[]\n",
    "    deleted=[]\n",
    "    count=1\n",
    "    n=len(C)\n",
    "    for p in range(n-1):\n",
    "        next_join = (0, 0)\n",
    "        max_delta_Q = -float('inf')\n",
    "        if p < n//2:\n",
    "            k=1\n",
    "        else:\n",
    "            k=2\n",
    "        #random_k_clusters=pick_k_random_clusters(G, C, k)    \n",
    "        modularity_values.append(modularity(G, C))\n",
    "        clusters_list.append(copy.deepcopy(C))\n",
    "        for _ in range(k):\n",
    "            i=pick_random_cluster(G, C)\n",
    "            for j in C.keys():\n",
    "                if i==j:\n",
    "                    continue\n",
    "\n",
    "                if not has_connecting_edge(G, C, i, j):\n",
    "                    continue\n",
    "\n",
    "                delta_Q = 2 * (fraction_of_connecting_edges(G, C, i, j) - fraction_of_claster_edges(G, C, i) * fraction_of_claster_edges(G, C, j))\n",
    "                if max_delta_Q < delta_Q:\n",
    "                    max_delta_Q = delta_Q\n",
    "                    next_join = (i, j)\n",
    "        joins.append(next_join)\n",
    "        if next_join==(0,0):\n",
    "            continue\n",
    "        join_for_randomized_greedy(G, C, next_join[0], next_join[1])\n",
    "        count+=1\n",
    "    \n",
    "    modularity_values=np.array(modularity_values)\n",
    "    max_index=modularity_values.argmax()\n",
    "    \n",
    "    return clusters_list[max_index]"
   ]
  },
  {
   "cell_type": "markdown",
   "id": "2fbb33ac",
   "metadata": {},
   "source": [
    "## Greedy refinement"
   ]
  },
  {
   "cell_type": "code",
   "execution_count": 24,
   "id": "544cd2af",
   "metadata": {},
   "outputs": [
    {
     "name": "stdout",
     "output_type": "stream",
     "text": [
      "0.2028270874424721\n",
      "12\n",
      "{5: [5, 11, 1], 6: [6], 7: [7, 17], 8: [8, 4, 13], 9: [9], 12: [12], 14: [14, 3, 10], 18: [18], 19: [19], 20: [20, 2], 21: [21, 33, 15, 16], 22: [22], 23: [23], 24: [24], 25: [25, 26], 27: [27], 28: [28], 29: [29], 30: [30], 31: [31], 32: [32], 34: [34]}\n"
     ]
    }
   ],
   "source": [
    "print(max(modularity_values))\n",
    "modularity_values=np.array(modularity_values)\n",
    "max_index=modularity_values.argmax()\n",
    "print(max_index)\n",
    "print(clusters_list[max_index])"
   ]
  },
  {
   "cell_type": "code",
   "execution_count": 25,
   "id": "b0b1d12b",
   "metadata": {},
   "outputs": [
    {
     "name": "stdout",
     "output_type": "stream",
     "text": [
      "[0.19921105 0.19855358 0.19822485 0.19756739 0.19690993 0.19855358\n",
      " 0.20052597 0.19986851 0.19953978 0.19888231 0.19822485 0.195595\n",
      " 0.20282709 0.20019724 0.19953978 0.19690993 0.17587114 0.17192636\n",
      " 0.17324129 0.17455621 0.17324129 0.17061144 0.16995398 0.16929652\n",
      " 0.16863905 0.16798159 0.13379356 0.13313609 0.13675214 0.12393162\n",
      " 0.11538462 0.13247863 0.0644313 ]\n"
     ]
    },
    {
     "data": {
      "image/png": "[encoded data removed]",
      "text/plain": [
       "<Figure size 640x480 with 1 Axes>"
      ]
     },
     "metadata": {},
     "output_type": "display_data"
    }
   ],
   "source": [
    "print(modularity_values)\n",
    "plt.plot(modularity_values)\n",
    "plt.show()"
   ]
  },
  {
   "cell_type": "code",
   "execution_count": 26,
   "id": "aaa5c576",
   "metadata": {},
   "outputs": [],
   "source": [
    "def find_coresponding_cluster(G, C, v):\n",
    "    for k in C.keys():\n",
    "         if v in C[k]:\n",
    "                return k\n",
    "    return None        \n",
    "def move_delta_Q(G, C, v, cc, nc):\n",
    "    Q1=modularity(G, C)\n",
    "    #print('move_delta_Q function!')\n",
    "    #print(v)\n",
    "    #print(C[cc])\n",
    "    #print(C[nc])\n",
    "    CC=copy.deepcopy(C)\n",
    "    CC[cc].remove(v)\n",
    "    CC[nc].append(v)\n",
    "    #print(CC[cc])\n",
    "    #print(CC[nc])\n",
    "    Q2=modularity(G, CC)\n",
    "    return Q2-Q1\n",
    "\n",
    "def neighbor_clusters(G, C, v, cc):            \n",
    "    result=[]\n",
    "    for k in C.keys():\n",
    "        if k==cc:\n",
    "            continue\n",
    "        for x in C[k]:\n",
    "            if (x, v) in G.edges() or (v, x) in G.edges():\n",
    "                result.append(k)\n",
    "    return result   \n",
    "def move(G, C, v, cc, nc):\n",
    "    #print('move function!')\n",
    "    #print(v)\n",
    "    #print(C[cc])\n",
    "    #print(C[nc])\n",
    "    #print('Little pause:')\n",
    "    C[cc].remove(v)\n",
    "    C[nc].append(v)\n",
    "    #print(C[cc])\n",
    "    #print(C[nc])"
   ]
  },
  {
   "cell_type": "code",
   "execution_count": 27,
   "id": "ee444128",
   "metadata": {},
   "outputs": [
    {
     "name": "stdout",
     "output_type": "stream",
     "text": [
      "[(1, 2), (1, 3), (1, 4), (1, 5), (1, 6), (1, 7), (1, 8), (1, 9), (1, 11), (1, 12), (1, 13), (1, 14), (1, 18), (1, 20), (1, 22), (1, 32), (2, 3), (2, 4), (2, 8), (2, 14), (2, 18), (2, 20), (2, 22), (2, 31), (3, 4), (3, 8), (3, 9), (3, 10), (3, 14), (3, 28), (3, 29), (3, 33), (4, 8), (4, 13), (4, 14), (5, 7), (5, 11), (6, 7), (6, 11), (6, 17), (7, 17), (9, 31), (9, 33), (9, 34), (10, 34), (14, 34), (15, 33), (15, 34), (16, 33), (16, 34), (19, 33), (19, 34), (20, 34), (21, 33), (21, 34), (23, 33), (23, 34), (24, 26), (24, 28), (24, 30), (24, 33), (24, 34), (25, 26), (25, 28), (25, 32), (26, 32), (27, 30), (27, 34), (28, 34), (29, 32), (29, 34), (30, 33), (30, 34), (31, 33), (31, 34), (32, 33), (32, 34), (33, 34)]\n",
      "0.2028270874424721\n",
      "----------------------------------------------------------\n",
      "{5: [5, 11, 1], 6: [6], 7: [7, 17], 8: [8, 4, 13], 9: [9], 12: [12], 14: [14, 3, 10], 18: [18], 19: [19], 20: [20, 2], 21: [21, 33, 15, 16], 22: [22], 23: [23], 24: [24], 25: [25, 26], 27: [27], 28: [28], 29: [29], 30: [30], 31: [31], 32: [32], 34: [34]}\n",
      "Number of nodes in graph G is equal to:  34\n"
     ]
    }
   ],
   "source": [
    "print(G.edges())\n",
    "print(max(modularity_values))\n",
    "C=clusters_list[max_index]\n",
    "print('----------------------------------------------------------')\n",
    "print(C)\n",
    "print('Number of nodes in graph G is equal to: ', len(G.nodes()))"
   ]
  },
  {
   "cell_type": "code",
   "execution_count": 28,
   "id": "0f05ad6d",
   "metadata": {},
   "outputs": [
    {
     "name": "stdout",
     "output_type": "stream",
     "text": [
      "Iteration number:  1\n",
      "Here!\n",
      "Here!\n",
      "Here!\n",
      "Here!\n",
      "Here!\n",
      "Here!\n",
      "Here!\n",
      "Here!\n",
      "Here!\n",
      "Here!\n",
      "Here!\n",
      "Here!\n",
      "Here!\n",
      "Here!\n",
      "Here!\n",
      "Here!\n",
      "Here!\n",
      "Here!\n",
      "Here!\n",
      "Iteration number:  2\n",
      "Here!\n",
      "Here!\n",
      "Here!\n",
      "Here!\n",
      "Here!\n",
      "Here!\n",
      "Here!\n",
      "Here!\n",
      "Iteration number:  3\n",
      "Here!\n",
      "Here!\n",
      "Here!\n",
      "Here!\n",
      "Here!\n",
      "Here!\n",
      "Here!\n",
      "Iteration number:  4\n",
      "Here!\n",
      "Here!\n",
      "Iteration number:  5\n",
      "{5: [], 6: [], 7: [17], 8: [13], 9: [], 12: [12], 14: [10, 2, 5, 6, 33, 34, 25, 1, 24, 29, 4], 18: [18], 19: [19], 20: [], 21: [21, 15, 16, 3, 26, 31, 7, 11, 20, 30, 32, 9, 14, 28, 8], 22: [22], 23: [23], 24: [], 25: [], 27: [27], 28: [], 29: [], 30: [], 31: [], 32: [], 34: []}\n",
      "0.9911242603550297\n"
     ]
    }
   ],
   "source": [
    "change=True\n",
    "count=1\n",
    "previous=None\n",
    "while change:\n",
    "    print('Iteration number: ', count)\n",
    "    #print(C)\n",
    "    change=False\n",
    "    for v in G.nodes():\n",
    "        current_cluster=find_coresponding_cluster(G, C, v)\n",
    "        best_delta_Q=0\n",
    "        star_cluster=None\n",
    "        for neighbor_cluster in neighbor_clusters(G, C, v, current_cluster):\n",
    "            delta_Q=move_delta_Q(G, C, v, current_cluster, neighbor_cluster)\n",
    "            if delta_Q > best_delta_Q:\n",
    "                best_delta_Q=delta_Q\n",
    "                star_cluster=neighbor_cluster\n",
    "        if best_delta_Q > 0:\n",
    "            previous=C\n",
    "            print('Here!')\n",
    "            move(G, C, v, current_cluster, star_cluster)\n",
    "            change=True\n",
    "    count+=1        \n",
    "print(C) \n",
    "print(modularity(G, C))"
   ]
  },
  {
   "cell_type": "markdown",
   "id": "62f4ef5d",
   "metadata": {},
   "source": [
    "# Optimized randomized greedy algorithm (RG+ algorithm) "
   ]
  },
  {
   "cell_type": "code",
   "execution_count": 29,
   "id": "bba6ac08",
   "metadata": {},
   "outputs": [],
   "source": [
    "import math"
   ]
  },
  {
   "cell_type": "code",
   "execution_count": 30,
   "id": "b27be72d",
   "metadata": {},
   "outputs": [
    {
     "name": "stdout",
     "output_type": "stream",
     "text": [
      "0.19921104536489145\n",
      "{1: [1], 2: [2], 3: [3], 4: [4], 5: [5], 6: [6], 7: [7], 8: [8], 9: [9], 10: [10], 11: [11], 12: [12], 13: [13], 14: [14], 15: [15], 16: [16], 17: [17], 18: [18], 19: [19], 20: [20], 21: [21], 22: [22], 23: [23], 24: [24], 25: [25], 26: [26], 27: [27], 28: [28], 29: [29], 30: [30], 31: [31], 32: [32], 33: [33], 34: [34]}\n"
     ]
    }
   ],
   "source": [
    "# Initialising our graph!\n",
    "G = graphs[0]\n",
    "\n",
    "C = {node: [node] for node in G.nodes()}\n",
    "\n",
    "print(modularity(G, C))\n",
    "print(C)"
   ]
  },
  {
   "cell_type": "code",
   "execution_count": 31,
   "id": "9d614045",
   "metadata": {},
   "outputs": [
    {
     "name": "stdout",
     "output_type": "stream",
     "text": [
      "3\n",
      "[{1: [1], 2: [2], 6: [6], 7: [7], 8: [8, 4], 10: [10, 3], 11: [11, 5], 12: [12], 13: [13], 14: [14], 15: [15], 16: [16], 17: [17], 18: [18], 19: [19], 20: [20], 21: [21], 22: [22], 23: [23], 24: [24], 25: [25, 26], 28: [28], 29: [29, 32], 30: [30, 27], 31: [31, 9, 33], 34: [34]}, {1: [1], 2: [2, 18, 22], 5: [5, 11], 6: [6], 7: [7, 17], 8: [8, 13, 4], 9: [9], 12: [12], 14: [14, 3], 15: [15], 19: [19], 20: [20], 21: [21, 16, 23, 33], 24: [24], 25: [25, 26, 32], 27: [27], 28: [28], 29: [29], 30: [30], 31: [31], 34: [34, 10]}, {1: [1], 2: [2], 3: [3], 4: [4], 5: [5], 6: [6], 7: [7], 8: [8], 9: [9, 31], 10: [10], 11: [11], 12: [12], 13: [13], 14: [14], 15: [15], 16: [16], 17: [17], 18: [18], 19: [19], 20: [20], 21: [21, 33], 22: [22], 23: [23], 24: [24, 26], 25: [25], 27: [27], 28: [28], 29: [29], 30: [30], 32: [32], 34: [34]}]\n",
      "3\n"
     ]
    }
   ],
   "source": [
    "# The first part of the Fast Randomized Greedy algorithm!\n",
    "z=int(math.log(len(G.nodes())))\n",
    "print(str(z))\n",
    "optimal_clusterings=[]\n",
    "#modularity_values, clustering_list=RG(G, C)\n",
    "#modularity_values=np.array(modularity_values)\n",
    "#used_modularity_values=set()\n",
    "for i in range(z):\n",
    "    C = {node: [node] for node in G.nodes()}\n",
    "    optimal_clusterings.append(RG(G,C))\n",
    "print(optimal_clusterings) \n",
    "print(len(optimal_clusterings))"
   ]
  },
  {
   "cell_type": "code",
   "execution_count": 32,
   "id": "d5e75181",
   "metadata": {},
   "outputs": [],
   "source": [
    "# This is the function that would be used in the second part of \n",
    "# the Fast Randomized Greedy algorithm implementation!\n",
    "def merge_clusterings(core_clustering, current_clustering):\n",
    "    new_core_clustering={}\n",
    "    result_clusters=[]          \n",
    "                \n",
    "    # This way we will identify core clusters!\n",
    "    for k1 in core_clustering.keys():\n",
    "        for k2 in current_clustering.keys():\n",
    "            if len(core_clustering[k1])==0:\n",
    "                break\n",
    "                \n",
    "            tmp_set=set()\n",
    "            while x in core_clustering[k1] and x in current_clustering[k2]:\n",
    "                tmp_set.add(x)\n",
    "                core_clustering[k1].remove(x)\n",
    "                current_clustering[k2].remove(x)\n",
    "            \n",
    "            if(len(tmp_set))!=0:\n",
    "                result_clusters.append(list(tmp_set))\n",
    "            \n",
    "            if len(core_clustering[k1])==0:\n",
    "                break\n",
    "    \n",
    "    # Everything else that is still in the one dictionary or the other \n",
    "    # should be added to result_clusters list            \n",
    "    for k1 in core_clustering.keys():\n",
    "        if len(core_clustering[k1])!=0:\n",
    "            result_clusters.append(core_clustering[k1])\n",
    "    \n",
    "    # Now when we have all clusters stored in a list, we need to create a dictionary from that list!\n",
    "    index=1\n",
    "    for cluster in result_clusters:\n",
    "        new_core_clustering[index]=cluster\n",
    "        index+=1\n",
    "    \n",
    "    return new_core_clustering        "
   ]
  },
  {
   "cell_type": "code",
   "execution_count": 33,
   "id": "45aa797b",
   "metadata": {},
   "outputs": [
    {
     "name": "stdout",
     "output_type": "stream",
     "text": [
      "Lists are not identical!\n"
     ]
    }
   ],
   "source": [
    "# Just to check something!\n",
    "l1=[1, 2, 9, 4, 4, 4]\n",
    "l2=[1, 2, 6, 7, 9]\n",
    "l3=[1, 2, 4, 5]\n",
    "if l1==l2:\n",
    "    print('Lists are identical!')\n",
    "else:\n",
    "    print('Lists are not identical!')\n",
    "\n",
    "if l1<l3:\n",
    "    print('Wow, we can do that too!')"
   ]
  },
  {
   "cell_type": "code",
   "execution_count": 34,
   "id": "9071a7d8",
   "metadata": {},
   "outputs": [
    {
     "name": "stdout",
     "output_type": "stream",
     "text": [
      "{1: [1], 2: [2], 6: [6], 7: [7], 8: [8, 4], 10: [10, 3], 11: [11, 5], 12: [12], 13: [13], 14: [14], 15: [15], 16: [16], 17: [17], 18: [18], 19: [19], 20: [20], 21: [21], 22: [22], 23: [23], 24: [24], 25: [25, 26], 28: [28], 29: [29, 32], 30: [30, 27], 31: [31, 9, 33], 34: [34]}\n",
      "--------------------------------------------------------------------\n",
      "{1: [16], 2: [1], 3: [2], 4: [6], 5: [7], 6: [8, 4], 7: [10, 3], 8: [11, 5], 9: [12], 10: [13], 11: [14], 12: [15], 13: [17], 14: [18], 15: [19], 16: [20], 17: [21], 18: [22], 19: [23], 20: [24], 21: [25, 26], 22: [28], 23: [29, 32], 24: [30, 27], 25: [31, 9, 33], 26: [34]}\n"
     ]
    }
   ],
   "source": [
    "# The second part of the Fast Randomized Greedy algorithm!\n",
    "core_clustering=optimal_clusterings[0]\n",
    "print(core_clustering)\n",
    "print('--------------------------------------------------------------------')\n",
    "for i in range(1, len(optimal_clusterings)):\n",
    "    core_clustering=merge_clusterings(core_clustering, optimal_clusterings[i])\n",
    "print(core_clustering)    "
   ]
  },
  {
   "cell_type": "code",
   "execution_count": 35,
   "id": "b407322a",
   "metadata": {},
   "outputs": [
    {
     "name": "stdout",
     "output_type": "stream",
     "text": [
      "{1: [16], 2: [1], 3: [2], 4: [6], 5: [7], 6: [8, 4], 7: [10, 3], 8: [11, 5], 9: [12], 10: [13], 11: [14], 12: [15], 13: [17], 14: [18], 15: [19], 16: [20], 17: [21], 18: [22], 19: [23], 20: [24], 21: [25, 26], 22: [28], 23: [29, 32], 24: [30, 27], 25: [31, 9, 33], 26: [34]}\n",
      "0.20644312952005256\n"
     ]
    }
   ],
   "source": [
    "# Here is the modularity we get when we apply RG algorithm after we applied RG+!\n",
    "# We get better results which was our intention at the first place!\n",
    "X=RG(G, core_clustering)\n",
    "print(X)\n",
    "print(modularity(G, X))"
   ]
  },
  {
   "cell_type": "code",
   "execution_count": 37,
   "id": "38bbe9e3",
   "metadata": {},
   "outputs": [
    {
     "name": "stdout",
     "output_type": "stream",
     "text": [
      "{1: [1], 2: [2], 3: [3], 4: [4], 5: [5], 6: [6], 7: [7], 8: [8], 9: [9], 10: [10], 11: [11], 12: [12], 13: [13], 14: [14], 15: [15], 16: [16], 17: [17], 18: [18], 19: [19], 20: [20], 21: [21], 22: [22], 23: [23], 24: [24], 25: [25], 26: [26], 27: [27], 28: [28], 29: [29], 30: [30], 31: [31], 32: [32], 33: [33], 34: [34]}\n",
      "0.19921104536489145\n"
     ]
    }
   ],
   "source": [
    "# Here is the modularity we receive after applying RG algorithm on initial clustering state!\n",
    "# As you can see, we got lower modularity value in comparison with aboce cell!\n",
    "G = graphs[0]\n",
    "\n",
    "C = {node: [node] for node in G.nodes()}\n",
    "X=RG(G, C)\n",
    "print(X)\n",
    "print(modularity(G, X))"
   ]
  },
  {
   "cell_type": "code",
   "execution_count": 50,
   "id": "9bcd8d73",
   "metadata": {},
   "outputs": [],
   "source": [
    "# In this cell we will sumarize whole work of RG+ algorithm!\n",
    "def fast_RG(G, C):\n",
    "    # The first part of the Fast Randomized Greedy algorithm!\n",
    "    z=int(math.log(len(G.nodes())))\n",
    "    optimal_clusterings=[]\n",
    "    for i in range(z):\n",
    "        C = {node: [node] for node in G.nodes()}\n",
    "        optimal_clusterings.append(RG(G,C))\n",
    "    \n",
    "    # Some extra outputs we used to track the work of RG+ algorithm!\n",
    "    #print(optimal_clusterings) \n",
    "    #print(len(optimal_clusterings))\n",
    "    \n",
    "    # The second part of the Fast Randomized Greedy algorithm!\n",
    "    core_clustering=optimal_clusterings[0]\n",
    "    for i in range(1, len(optimal_clusterings)):\n",
    "        core_clustering=merge_clusterings(core_clustering, optimal_clusterings[i])\n",
    "    \n",
    "    #print(core_clustering) \n",
    "    core_clustering=RG(G, core_clustering)\n",
    "    \n",
    "    return core_clustering"
   ]
  },
  {
   "cell_type": "markdown",
   "id": "39abc12a",
   "metadata": {},
   "source": [
    "# Testing results of RG and RG+ to see which one works better!"
   ]
  },
  {
   "cell_type": "code",
   "execution_count": null,
   "id": "b2384a8d",
   "metadata": {},
   "outputs": [
    {
     "name": "stdout",
     "output_type": "stream",
     "text": [
      "The number of graphs we are working with is equal to:  4\n",
      "----------------------------------------------------\n",
      "We are processing graph number  1 !\n",
      "This graph contains  34  nodes!\n",
      "This graph contains  78  edges!\n",
      "\tGraph number  1 is processed!\n",
      "Total score for RG+ algortihm:  62\n",
      "Total score for RG algorithm:  38\n",
      "----------------------------------------------------\n",
      "We are processing graph number  2 !\n",
      "This graph contains  115  nodes!\n",
      "This graph contains  613  edges!\n"
     ]
    }
   ],
   "source": [
    "print('The number of graphs we are working with is equal to: ', len(graphs))\n",
    "pairs_of_results=[]\n",
    "count=1\n",
    "for G in graphs:\n",
    "    print('----------------------------------------------------')\n",
    "    print('We are processing graph number ', count, '!')\n",
    "    print('This graph contains ', len(G.nodes()), ' nodes!')\n",
    "    print('This graph contains ', len(G.edges()), ' edges!')\n",
    "    fast_rg_points=0\n",
    "    rg_points=0\n",
    "    for i in range(100):\n",
    "        C1={node: [node] for node in G.nodes()}\n",
    "        C2={node: [node] for node in G.nodes()}\n",
    "        rg_result=RG(G,C1)\n",
    "        fast_rg_result=fast_RG(G, C2)\n",
    "        if modularity(G, fast_rg_result)>modularity(G, rg_result):\n",
    "            #print('True!', end=' ')\n",
    "            fast_rg_points+=1\n",
    "        else:\n",
    "            #print('False!', end=' ')\n",
    "            rg_points+=1    \n",
    "        pairs_of_results.append((modularity(G, fast_rg_result), modularity(G, rg_result)))\n",
    "    print('\\tGraph number ', count, 'is processed!')\n",
    "    print('Total score for RG+ algortihm: ', fast_rg_points)\n",
    "    print('Total score for RG algorithm: ', rg_points)\n",
    "    count+=1\n",
    "\n",
    "print('Number of pairs we will process is equal to: ', len(pairs_of_results))        \n",
    "for pair in pairs_of_results:\n",
    "    if pair[0]>pair[1]:\n",
    "        print('True', end=' ')\n",
    "    else:\n",
    "        print('False', end=' ')"
   ]
  },
  {
   "cell_type": "code",
   "execution_count": null,
   "id": "272ac854",
   "metadata": {},
   "outputs": [],
   "source": []
  }
 ],
 "metadata": {
  "kernelspec": {
   "display_name": "Python 3 (ipykernel)",
   "language": "python",
   "name": "python3"
  },
  "language_info": {
   "codemirror_mode": {
    "name": "ipython",
    "version": 3
   },
   "file_extension": ".py",
   "mimetype": "text/x-python",
   "name": "python",
   "nbconvert_exporter": "python",
   "pygments_lexer": "ipython3",
   "version": "3.8.10"
  }
 },
 "nbformat": 4,
 "nbformat_minor": 5
}
