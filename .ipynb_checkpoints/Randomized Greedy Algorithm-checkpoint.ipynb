{
 "cells": [
  {
   "cell_type": "markdown",
   "id": "4f1cf077",
   "metadata": {},
   "source": [
    "# Randomized Greedy Algorithm\n",
    "\n",
    "Reference paper: Michael Ovelgonne and Andreas Geyer-Schulz, *Cluster Cores and Modularity Maximization*, IEEE International Conference on Data Mining Workshops, 2010"
   ]
  },
  {
   "cell_type": "markdown",
   "id": "0c2df830",
   "metadata": {},
   "source": [
    "Let $G = (V, E)$ be an undirected, loop-free graph and $C = \\{C_1, . . . , C_p\\}$ a non-overlapping clustering, i.e. a clustering of the vertices of the graph into groups $C_i$ so that $\\forall i, j : i \\neq j \\implies C_i \\cap C_j = \\emptyset$ and $\\cup_i C_i = V$. We denote the adjacency matrix of $G$ as $M$ and the element of $M$ in the\n",
    "$i$-th row and $j$-th column as $m_{ij}$ , where $m_{ij} = m_{ji} = 1$ if $(v_i, v_j) \\in E$ and otherwise $m_{ij} = m_{ji} = 0$. The modularity $Q$ of the clustering $C$ is\n",
    "\n",
    "$$Q = \\sum_i (e_{ii} - a^2)$$\n",
    "with\n",
    "$$e_{ij} = \\frac{\\sum_{v_x \\in C_i}\\sum_{v_y \\in C_j} m_{xy}}{\\sum_{v_x \\in V}\\sum_{v_y \\in V} m_{xy}}$$\n",
    "and\n",
    "$$a_i = \\sum_j e_{ij}.$$\n",
    "\n",
    "Objective: Find clastering $C$ such that modularity $Q$ is maximized."
   ]
  }
 ],
 "metadata": {
  "kernelspec": {
   "display_name": "Python 3 (ipykernel)",
   "language": "python",
   "name": "python3"
  },
  "language_info": {
   "codemirror_mode": {
    "name": "ipython",
    "version": 3
   },
   "file_extension": ".py",
   "mimetype": "text/x-python",
   "name": "python",
   "nbconvert_exporter": "python",
   "pygments_lexer": "ipython3",
   "version": "3.11.3"
  }
 },
 "nbformat": 4,
 "nbformat_minor": 5
}
