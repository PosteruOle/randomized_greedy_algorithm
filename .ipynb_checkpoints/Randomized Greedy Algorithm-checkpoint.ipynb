{
 "cells": [
  {
   "cell_type": "markdown",
   "id": "4f1cf077",
   "metadata": {},
   "source": [
    "# Randomized Greedy Algorithm\n",
    "\n",
    "Reference paper: Michael Ovelgonne and Andreas Geyer-Schulz, *Cluster Cores and Modularity Maximization*, IEEE International Conference on Data Mining Workshops, 2010"
   ]
  },
  {
   "cell_type": "markdown",
   "id": "0c2df830",
   "metadata": {},
   "source": [
    "Let $G = (V, E)$ be an undirected, loop-free graph and $C = \\{C_1, . . . , C_p\\}$ a non-overlapping clustering, i.e. a clustering of the vertices of the graph into groups $C_i$ so that $\\forall i, j : i \\neq j \\implies C_i \\cap C_j = \\emptyset$ and $\\cup_i C_i = V$. We denote the adjacency matrix of $G$ as $M$ and the element of $M$ in the\n",
    "$i$-th row and $j$-th column as $m_{ij}$ , where $m_{ij} = m_{ji} = 1$ if $(v_i, v_j) \\in E$ and otherwise $m_{ij} = m_{ji} = 0$. The modularity $Q$ of the clustering $C$ is\n",
    "\n",
    "$$Q = \\sum_i (e_{ii} - a_i^2)$$\n",
    "with\n",
    "$$e_{ij} = \\frac{\\sum_{v_x \\in C_i}\\sum_{v_y \\in C_j} m_{xy}}{\\sum_{v_x \\in V}\\sum_{v_y \\in V} m_{xy}}$$\n",
    "and\n",
    "$$a_i = \\sum_j e_{ij}.$$\n",
    "\n",
    "Objective: Find clastering $C$ such that modularity $Q$ is maximized."
   ]
  },
  {
   "cell_type": "code",
   "execution_count": 200,
   "id": "d5bba78f",
   "metadata": {},
   "outputs": [],
   "source": [
    "import numpy as np\n",
    "import networkx as nx\n",
    "from matplotlib import pyplot as plt"
   ]
  },
  {
   "cell_type": "markdown",
   "id": "802e8bb5",
   "metadata": {},
   "source": [
    "### Loading instances"
   ]
  },
  {
   "cell_type": "code",
   "execution_count": 201,
   "id": "4c279916",
   "metadata": {},
   "outputs": [],
   "source": [
    "def load_graph(file_path):\n",
    "    with open(file_path, 'r') as file:\n",
    "        lines = file.readlines()\n",
    "        \n",
    "        tokens = lines[0].split()\n",
    "        n, m = int(tokens[0]), int(tokens[1])\n",
    "                        \n",
    "        G = nx.Graph()\n",
    "    \n",
    "        nodes = np.arange(1, n + 1)\n",
    "        G.add_nodes_from(nodes)\n",
    "        \n",
    "        for i in range(1, n + 1):\n",
    "            neighbours = map(int, lines[i].split())\n",
    "            for j in neighbours:\n",
    "                G.add_edge(i, j)\n",
    "                \n",
    "        return G"
   ]
  },
  {
   "cell_type": "code",
   "execution_count": 225,
   "id": "ec6660e1",
   "metadata": {},
   "outputs": [],
   "source": [
    "file_paths = ['Instances/karate.graph', 'Instances/football.graph', 'Instances/netscience.graph', 'Instances/PGPgiantcompo.graph']\n",
    "graphs = []\n",
    "\n",
    "for file_path in file_paths:\n",
    "        graphs.append(load_graph(file_path))"
   ]
  },
  {
   "cell_type": "markdown",
   "id": "50a10068",
   "metadata": {},
   "source": [
    "### Modularity function"
   ]
  },
  {
   "cell_type": "code",
   "execution_count": 203,
   "id": "9cad4419",
   "metadata": {},
   "outputs": [],
   "source": [
    "def number_of_connecting_edges(G, C, i, j):\n",
    "    res = 0\n",
    "    for u in C[i]:\n",
    "        for v in C[j]:\n",
    "            if G.has_edge(u, v):\n",
    "                res += 1\n",
    "    return res\n",
    "\n",
    "def number_of_claster_edges(G, C, i):\n",
    "    res = 0\n",
    "    number_of_clasters = len(C)\n",
    "    \n",
    "    #for j in range(1, number_of_clasters + 1):\n",
    "    #    res += number_of_connecting_edges(G, C, i, j)\n",
    "    \n",
    "    for j in C:\n",
    "        res += number_of_connecting_edges(G, C, i, j)\n",
    "    \n",
    "    return res\n",
    "\n",
    "def fraction_of_connecting_edges(G, C, i, j):\n",
    "    return number_of_connecting_edges(G, C, i, j) / G.number_of_edges()\n",
    "        \n",
    "def fraction_of_claster_edges(G, C, i):\n",
    "    return number_of_claster_edges(G, C, i) / G.number_of_edges()\n",
    "\n",
    "def modularity(G, C):\n",
    "    res = 0.0\n",
    "    number_of_clasters = len(C)\n",
    "    \n",
    "    #for i in range(1, number_of_clasters + 1):\n",
    "    #    res += (fraction_of_connecting_edges(G, C, i, i) - fraction_of_claster_edges(G, C, i))**2\n",
    "    \n",
    "    for i in C:\n",
    "        res += (fraction_of_connecting_edges(G, C, i, i) - fraction_of_claster_edges(G, C, i))**2\n",
    "    \n",
    "    return res"
   ]
  },
  {
   "cell_type": "code",
   "execution_count": 248,
   "id": "0b09e4ae",
   "metadata": {},
   "outputs": [
    {
     "data": {
      "text/plain": [
       "0.19921104536489145"
      ]
     },
     "execution_count": 248,
     "metadata": {},
     "output_type": "execute_result"
    }
   ],
   "source": [
    "G = graphs[0]\n",
    "\n",
    "C = {node: [node] for node in G.nodes()}\n",
    "\n",
    "modularity(G, C)"
   ]
  },
  {
   "cell_type": "markdown",
   "id": "5eff95b8",
   "metadata": {},
   "source": [
    "# Plain Greedy (PG) algorithm"
   ]
  },
  {
   "cell_type": "code",
   "execution_count": 239,
   "id": "e71ef9d9-b7fc-4043-b32f-c5c4468cb925",
   "metadata": {},
   "outputs": [
    {
     "name": "stdout",
     "output_type": "stream",
     "text": [
      "{1: [1], 2: [2], 3: [3], 4: [4], 5: [5], 6: [6], 7: [7], 8: [8], 9: [9], 10: [10], 11: [11], 12: [12], 13: [13], 14: [14], 15: [15], 16: [16], 17: [17], 18: [18], 19: [19], 20: [20], 21: [21], 22: [22], 23: [23], 24: [24], 25: [25], 26: [26], 27: [27], 28: [28], 29: [29], 30: [30], 31: [31], 32: [32], 33: [33], 34: [34]}\n",
      "{1: [1], 2: [2], 3: [3], 4: [4], 5: [5], 6: [6], 7: [7], 8: [8], 9: [9], 10: [10], 11: [11], 12: [12], 13: [13], 14: [14], 15: [15], 16: [16], 17: [17], 18: [18], 19: [19], 20: [20], 21: [21], 22: [22], 23: [23], 24: [24], 25: [25], 26: [26], 27: [27], 28: [28], 29: [29], 30: [30], 31: [31], 32: [32], 33: [33], 34: [34]}\n"
     ]
    }
   ],
   "source": [
    "def has_connecting_edge(G, C, i, j):\n",
    "    if (i not in C.keys()) or (j not in C.keys()):\n",
    "        print('The key you are looking for is removed from the dictionary while merging some clusters!')\n",
    "        return None\n",
    "    \n",
    "    for v in C[i]:\n",
    "        for u in C[j]:\n",
    "            if G.has_edge(u, v):\n",
    "                return True\n",
    "    return False\n",
    "\n",
    "def join_for_plain_greedy(G, C, i, j):\n",
    "    tmp=C[j]\n",
    "    C[i]+=tmp\n",
    "    C.pop(j)\n",
    "    \n",
    "def join(G, C, joins):\n",
    "    for i, j in joins:\n",
    "        join_for_plain_greedy(G, C, i, j)\n",
    "        #tmp=C[pair[1]]\n",
    "        #C[pair[0]]+=tmp\n",
    "        #C.pop(pair[1])\n",
    "\n",
    "C = {node: [node] for node in G.nodes()}\n",
    "#join1(G, C, 1, 2)\n",
    "print(C)\n",
    "#join1(G,C, 3, 16)\n",
    "print(C)"
   ]
  },
  {
   "cell_type": "code",
   "execution_count": 244,
   "id": "e6a83a05-91b7-4024-860b-06862e6df976",
   "metadata": {},
   "outputs": [
    {
     "name": "stdout",
     "output_type": "stream",
     "text": [
      "{1: [1], 2: [2], 3: [3], 4: [4], 5: [5], 6: [6], 7: [7], 8: [8], 9: [9], 10: [10], 11: [11], 12: [12], 13: [13], 14: [14], 15: [15], 16: [16], 17: [17], 18: [18], 19: [19], 20: [20], 21: [21], 22: [22], 23: [23], 24: [24], 25: [25], 26: [26], 27: [27], 28: [28], 29: [29], 30: [30], 31: [31], 32: [32], 33: [33], 34: [34]}\n",
      "----------------------------------------------------------\n",
      "{1: [1, 12, 5, 11, 6, 17, 7, 2, 18, 22, 20, 9, 31, 3, 10, 29, 4, 13, 8, 14, 15, 33, 16, 19, 21, 23, 27, 30, 34, 24, 28, 25, 26, 32]}\n"
     ]
    }
   ],
   "source": [
    "# Initialising clasters\n",
    "C = {node: [node] for node in G.nodes()}\n",
    "print(C)\n",
    "print('----------------------------------------------------------')\n",
    "joins = []\n",
    "modularity_values=[]\n",
    "n=len(C)-1\n",
    "for _ in range(n):\n",
    "    next_join = (0, 0)\n",
    "    max_delta_Q = -float('inf')\n",
    "    modularity_values.append(modularity(G,C))\n",
    "    for i in C:\n",
    "        for j in C:\n",
    "            if i >= j or (i, j) in joins:\n",
    "                continue\n",
    "            if not has_connecting_edge(G, C, i, j):\n",
    "                continue\n",
    "            delta_Q = 2 * (fraction_of_connecting_edges(G, C, i, j) - fraction_of_claster_edges(G, C, i) * fraction_of_claster_edges(G, C, j))\n",
    "            if max_delta_Q < delta_Q:\n",
    "                max_delta_Q = delta_Q\n",
    "                next_join = (i, j)\n",
    "                #join(G, C, i, j)\n",
    "    joins.append(next_join)\n",
    "    if next_join==(0,0):\n",
    "        break\n",
    "    join_for_plain_greedy(G, C, next_join[0], next_join[1])\n",
    "\n",
    "#join(G, C, joins)\n",
    "print(C)"
   ]
  },
  {
   "cell_type": "code",
   "execution_count": 218,
   "id": "8ceddca6-81b9-4d81-8ab5-eac169872026",
   "metadata": {},
   "outputs": [
    {
     "name": "stdout",
     "output_type": "stream",
     "text": [
      "1\n",
      "[0.19921104536489145, 0.1985535831689677, 0.19592373438527277, 0.19526627218934905, 0.1949375410913872, 0.19230769230769226, 0.1919789612097304, 0.18934911242603547, 0.18869165023011172, 0.18343195266272186, 0.18277449046679814, 0.18211702827087442, 0.1834319526627219, 0.18474687705456935, 0.1840894148586456, 0.18343195266272191, 0.18080210387902698, 0.18014464168310323, 0.1794871794871795, 0.1814595660749507, 0.18080210387902698, 0.18014464168310323, 0.18211702827087442, 0.1623931623931624, 0.16403681788297175, 0.16337935568704803, 0.12919132149901377, 0.13445101906640364, 0.13675213675213668, 0.14924391847468768, 0.1426692965154503, 0.11604207758053908, 0.04733727810650885]\n"
     ]
    },
    {
     "data": {
      "image/png": "[encoded data removed]",
      "text/plain": [
       "<Figure size 640x480 with 1 Axes>"
      ]
     },
     "metadata": {},
     "output_type": "display_data"
    }
   ],
   "source": [
    "l=[1,2,3]\n",
    "print(l[0])\n",
    "print(modularity_values)\n",
    "plt.plot(modularity_values)\n",
    "plt.show()"
   ]
  },
  {
   "cell_type": "code",
   "execution_count": 197,
   "id": "0f7e5477",
   "metadata": {},
   "outputs": [
    {
     "name": "stdout",
     "output_type": "stream",
     "text": [
      "[15, 8, 9, 5, 2, 3, 3, 3, 4, 1, 2, 0, 1, 4, 1, 1, 1, 1, 1, 2, 1, 1, 1, 4, 2, 2, 1, 3, 2, 3, 3, 5, 11, 16]\n"
     ]
    }
   ],
   "source": [
    "#G.nodes()\n",
    "#list(G.neighbors(5))\n",
    "e=[]\n",
    "a=[]\n",
    "for node in G.nodes():\n",
    "    e.append([])\n",
    "    for neighbor in list(G.neighbors(node)):\n",
    "        e[node-1].append(1/(2*len(G.edges())))\n",
    "    sum=0\n",
    "    for x in range(len(e[node-1])):\n",
    "        sum+=x\n",
    "    a.append(x)\n",
    "print(a)    "
   ]
  },
  {
   "cell_type": "markdown",
   "id": "7ee694a0",
   "metadata": {},
   "source": [
    "# Randomized Greedy (RG)"
   ]
  },
  {
   "cell_type": "code",
   "execution_count": 278,
   "id": "8702ca73",
   "metadata": {},
   "outputs": [],
   "source": [
    "import random\n",
    "random.seed(7)"
   ]
  },
  {
   "cell_type": "code",
   "execution_count": 279,
   "id": "7f7f4cf2",
   "metadata": {},
   "outputs": [
    {
     "name": "stdout",
     "output_type": "stream",
     "text": [
      "0.19921104536489145\n"
     ]
    }
   ],
   "source": [
    "# Initialising our graph!\n",
    "G = graphs[0]\n",
    "\n",
    "C = {node: [node] for node in G.nodes()}\n",
    "\n",
    "print(modularity(G, C))"
   ]
  },
  {
   "cell_type": "code",
   "execution_count": 280,
   "id": "6c7f5714",
   "metadata": {},
   "outputs": [
    {
     "name": "stdout",
     "output_type": "stream",
     "text": [
      "-------------------------------------------------------------------------\n",
      "{1: [1], 2: [2], 3: [3], 4: [4], 5: [5], 6: [6], 7: [7], 8: [8], 9: [9], 10: [10], 11: [11], 12: [12], 13: [13], 14: [14], 15: [15], 16: [16], 17: [17], 18: [18], 19: [19], 20: [20], 21: [21], 22: [22], 23: [23], 24: [24], 25: [25], 26: [26], 27: [27], 28: [28], 29: [29], 30: [30], 31: [31], 32: [32], 33: [33], 34: [34]}\n",
      "-------------------------------------------------------------------------\n",
      "1 2 3 4 5 6 7 8 9 10 11 12 13 14 15 16 17 18 19 20 21 22 23 24 25 26 27 28 29 30 31 32 33 34 -------------------------------------------------------------------------\n",
      "1 2 3 4 5 6 7 8 9 10 11 12 13 14 15 16 17 18 19 20 21 22 23 24 25 26 27 28 29 30 31 32 33 34 "
     ]
    }
   ],
   "source": [
    "print('-------------------------------------------------------------------------')\n",
    "print(C)\n",
    "print('-------------------------------------------------------------------------')\n",
    "for i in C:\n",
    "    print(i, end=' ')\n",
    "print('-------------------------------------------------------------------------')\n",
    "for i in C.keys():\n",
    "    print(i, end=' ')"
   ]
  },
  {
   "cell_type": "code",
   "execution_count": 281,
   "id": "ec627d59",
   "metadata": {},
   "outputs": [],
   "source": [
    "def join_for_randomized_greedy(G, C, i, j):\n",
    "    tmp=C[j]\n",
    "    C[i]+=tmp\n",
    "    C.pop(j)"
   ]
  },
  {
   "cell_type": "code",
   "execution_count": 282,
   "id": "c929ff5b",
   "metadata": {},
   "outputs": [],
   "source": [
    "# This function should pick k different clusters within the graph we are working with \n",
    "# and return the list of indeces of chosen clusters!\n",
    "def pick_k_random_clusters(G, C, k):\n",
    "    set_indexes=set()\n",
    "    result=[]\n",
    "    count = 0\n",
    "    n=len(C.keys())\n",
    "    if k>n:\n",
    "        print('There are not that many clusters in our graph!')\n",
    "        return None\n",
    "    while count < k:\n",
    "        p=random.randint(0, n)\n",
    "        if p not in set_indexes:\n",
    "            set_indexes.add(p)\n",
    "            count+=1\n",
    "            result.append(p)\n",
    "            \n",
    "    result.sort()\n",
    "    \n",
    "    return result  \n",
    "\n",
    "def pick_random_cluster(G, C):\n",
    "    help=list(C.keys())\n",
    "    n=len(C.keys())\n",
    "    return help[random.randint(0, n-1)]"
   ]
  },
  {
   "cell_type": "code",
   "execution_count": 283,
   "id": "4e0835a8",
   "metadata": {},
   "outputs": [
    {
     "name": "stdout",
     "output_type": "stream",
     "text": [
      "[3, 4, 9, 20, 25, 34]\n"
     ]
    }
   ],
   "source": [
    "# Here we just wanted to check the pick_k_random_clusters funtion!\n",
    "k_clusters=pick_k_random_clusters(G, C, 6)\n",
    "print(k_clusters)"
   ]
  },
  {
   "cell_type": "code",
   "execution_count": 284,
   "id": "942d9aa4",
   "metadata": {
    "scrolled": true
   },
   "outputs": [
    {
     "name": "stdout",
     "output_type": "stream",
     "text": [
      "{1: [1], 2: [2], 3: [3], 4: [4], 5: [5], 6: [6], 7: [7], 8: [8], 9: [9], 10: [10], 11: [11], 12: [12], 13: [13], 14: [14], 15: [15], 16: [16], 17: [17], 18: [18], 19: [19], 20: [20], 21: [21], 22: [22], 23: [23], 24: [24], 25: [25], 26: [26], 27: [27], 28: [28], 29: [29], 30: [30], 31: [31], 32: [32], 33: [33], 34: [34]}\n",
      "----------------------------------------------------------\n",
      "Iteration number:  1\n",
      "k =  1\n",
      "Iteration number:  2\n",
      "k =  1\n",
      "Iteration number:  3\n",
      "k =  1\n",
      "Iteration number:  4\n",
      "k =  1\n",
      "Iteration number:  5\n",
      "k =  1\n",
      "Iteration number:  6\n",
      "k =  1\n",
      "Iteration number:  7\n",
      "k =  1\n",
      "Iteration number:  8\n",
      "k =  1\n",
      "Iteration number:  9\n",
      "k =  1\n",
      "Iteration number:  10\n",
      "k =  1\n",
      "Iteration number:  11\n",
      "k =  1\n",
      "Iteration number:  12\n",
      "k =  1\n",
      "Iteration number:  13\n",
      "k =  1\n",
      "Iteration number:  14\n",
      "k =  1\n",
      "Iteration number:  15\n",
      "k =  1\n",
      "Iteration number:  16\n",
      "k =  1\n",
      "Iteration number:  17\n",
      "k =  1\n",
      "Iteration number:  18\n",
      "k =  2\n",
      "Iteration number:  19\n",
      "k =  2\n",
      "Iteration number:  20\n",
      "k =  2\n",
      "Iteration number:  21\n",
      "k =  2\n",
      "Iteration number:  22\n",
      "k =  2\n",
      "Iteration number:  23\n",
      "k =  2\n",
      "Iteration number:  24\n",
      "k =  2\n",
      "Iteration number:  25\n",
      "k =  2\n",
      "Iteration number:  26\n",
      "k =  2\n",
      "Iteration number:  27\n",
      "k =  2\n",
      "Iteration number:  28\n",
      "k =  2\n",
      "Iteration number:  29\n",
      "k =  2\n",
      "Iteration number:  30\n",
      "k =  2\n",
      "Iteration number:  31\n",
      "k =  2\n",
      "Iteration number:  32\n",
      "k =  2\n",
      "Iteration number:  33\n",
      "k =  2\n",
      "{34: [34, 30, 27, 19, 21, 33, 15, 16, 23, 9, 31, 14, 3, 10, 8, 4, 13, 29, 28, 24, 25, 26, 32, 12, 7, 17, 6, 5, 11, 1, 18, 22, 20, 2]}\n"
     ]
    }
   ],
   "source": [
    "# Initialising clasters\n",
    "C = {node: [node] for node in G.nodes()}\n",
    "print(C)\n",
    "print('----------------------------------------------------------')\n",
    "joins = []\n",
    "modularity_values=[]\n",
    "deleted=[]\n",
    "count=1\n",
    "n=len(C)\n",
    "for p in range(n-1):\n",
    "    next_join = (0, 0)\n",
    "    max_delta_Q = -float('inf')\n",
    "    if p < n//2:\n",
    "        k=1\n",
    "    else:\n",
    "        k=2\n",
    "    #random_k_clusters=pick_k_random_clusters(G, C, k)    \n",
    "    modularity_values.append(modularity(G, C))\n",
    "    print('Iteration number: ', str(count))\n",
    "    print('k = ', str(k))\n",
    "    #for i in random_k_clusters:\n",
    "    for _ in range(k):\n",
    "        i=pick_random_cluster(G, C)\n",
    "        for j in C.keys():\n",
    "            if i==j:\n",
    "                continue\n",
    "                \n",
    "            if not has_connecting_edge(G, C, i, j):\n",
    "                continue\n",
    "                \n",
    "            #print(str(i)+ ' ' +str(j))\n",
    "            \n",
    "            delta_Q = 2 * (fraction_of_connecting_edges(G, C, i, j) - fraction_of_claster_edges(G, C, i) * fraction_of_claster_edges(G, C, j))\n",
    "            if max_delta_Q < delta_Q:\n",
    "                max_delta_Q = delta_Q\n",
    "                next_join = (i, j)\n",
    "    joins.append(next_join)\n",
    "    if next_join==(0,0):\n",
    "        continue\n",
    "    join_for_randomized_greedy(G, C, next_join[0], next_join[1])\n",
    "    count+=1\n",
    "\n",
    "#join(G, C, joins)\n",
    "print(C)"
   ]
  },
  {
   "cell_type": "markdown",
   "id": "c0bcac3d",
   "metadata": {},
   "source": [
    "## Greedy refinement"
   ]
  },
  {
   "cell_type": "code",
   "execution_count": null,
   "id": "34c70812",
   "metadata": {},
   "outputs": [],
   "source": []
  }
 ],
 "metadata": {
  "kernelspec": {
   "display_name": "Python 3 (ipykernel)",
   "language": "python",
   "name": "python3"
  },
  "language_info": {
   "codemirror_mode": {
    "name": "ipython",
    "version": 3
   },
   "file_extension": ".py",
   "mimetype": "text/x-python",
   "name": "python",
   "nbconvert_exporter": "python",
   "pygments_lexer": "ipython3",
   "version": "3.8.10"
  }
 },
 "nbformat": 4,
 "nbformat_minor": 5
}
