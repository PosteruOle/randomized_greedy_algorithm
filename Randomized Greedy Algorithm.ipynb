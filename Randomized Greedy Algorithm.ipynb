{
 "cells": [
  {
   "cell_type": "markdown",
   "id": "4f1cf077",
   "metadata": {},
   "source": [
    "# Randomized Greedy Algorithm\n",
    "\n",
    "Reference paper: Michael Ovelgonne and Andreas Geyer-Schulz, *Cluster Cores and Modularity Maximization*, IEEE International Conference on Data Mining Workshops, 2010"
   ]
  },
  {
   "cell_type": "markdown",
   "id": "0c2df830",
   "metadata": {},
   "source": [
    "Let $G = (V, E)$ be an undirected, loop-free graph and $C = \\{C_1, . . . , C_p\\}$ a non-overlapping clustering, i.e. a clustering of the vertices of the graph into groups $C_i$ so that $\\forall i, j : i \\neq j \\implies C_i \\cap C_j = \\emptyset$ and $\\cup_i C_i = V$. We denote the adjacency matrix of $G$ as $M$ and the element of $M$ in the\n",
    "$i$-th row and $j$-th column as $m_{ij}$ , where $m_{ij} = m_{ji} = 1$ if $(v_i, v_j) \\in E$ and otherwise $m_{ij} = m_{ji} = 0$. The modularity $Q$ of the clustering $C$ is\n",
    "\n",
    "$$Q = \\sum_i (e_{ii} - a_i^2)$$\n",
    "with\n",
    "$$e_{ij} = \\frac{\\sum_{v_x \\in C_i}\\sum_{v_y \\in C_j} m_{xy}}{\\sum_{v_x \\in V}\\sum_{v_y \\in V} m_{xy}}$$\n",
    "and\n",
    "$$a_i = \\sum_j e_{ij}.$$\n",
    "\n",
    "Objective: Find clastering $C$ such that modularity $Q$ is maximized."
   ]
  },
  {
   "cell_type": "code",
   "execution_count": 2,
   "id": "d5bba78f",
   "metadata": {},
   "outputs": [],
   "source": [
    "import numpy as np\n",
    "import networkx as nx"
   ]
  },
  {
   "cell_type": "markdown",
   "id": "802e8bb5",
   "metadata": {},
   "source": [
    "### Loading instances"
   ]
  },
  {
   "cell_type": "code",
   "execution_count": 4,
   "id": "4c279916",
   "metadata": {},
   "outputs": [],
   "source": [
    "def load_graph(file_path):\n",
    "    with open(file_path, 'r') as file:\n",
    "        lines = file.readlines()\n",
    "        \n",
    "        tokens = lines[0].split()\n",
    "        n, m = int(tokens[0]), int(tokens[1])\n",
    "                        \n",
    "        G = nx.Graph()\n",
    "    \n",
    "        nodes = np.arange(1, n + 1)\n",
    "        G.add_nodes_from(nodes)\n",
    "        \n",
    "        for i in range(1, n + 1):\n",
    "            neighbours = map(int, lines[i].split())\n",
    "            for j in neighbours:\n",
    "                G.add_edge(i, j)\n",
    "                \n",
    "        return G"
   ]
  },
  {
   "cell_type": "code",
   "execution_count": 5,
   "id": "ec6660e1",
   "metadata": {},
   "outputs": [],
   "source": [
    "file_paths = ['Instances/karate.graph', 'Instances/football.graph', 'Instances/netscience.graph', 'Instances/PGPgiantcompo.graph']\n",
    "graphs = []\n",
    "\n",
    "for file_path in file_paths:\n",
    "        graphs.append(load_graph(file_path))"
   ]
  },
  {
   "cell_type": "markdown",
   "id": "50a10068",
   "metadata": {},
   "source": [
    "### Modularity function"
   ]
  },
  {
   "cell_type": "code",
   "execution_count": 6,
   "id": "9cad4419",
   "metadata": {},
   "outputs": [],
   "source": [
    "def number_of_connecting_edges(G, C, i, j):\n",
    "    res = 0\n",
    "    for u in C[i]:\n",
    "        for v in C[j]:\n",
    "            if G.has_edge(u, v):\n",
    "                res += 1\n",
    "    return res\n",
    "\n",
    "def number_of_claster_edges(G, C, i):\n",
    "    res = 0\n",
    "    number_of_clasters = len(C)\n",
    "    for j in range(number_of_clasters):\n",
    "        res += number_of_connecting_edges(G, C, i, j)\n",
    "    return res\n",
    "\n",
    "def fraction_of_connecting_edges(G, C, i, j):\n",
    "    return number_of_connecting_edges(G, C, i, j) / G.number_of_edges()\n",
    "        \n",
    "def fraction_of_claster_edges(G, C, i):\n",
    "    return number_of_claster_edges(G, C, i) / G.number_of_edges()\n",
    "\n",
    "def modularity(G, C):\n",
    "    res = 0.0\n",
    "    number_of_clasters = len(C)\n",
    "    for i in range(number_of_clasters):\n",
    "        res += (fraction_of_connecting_edges(G, C, i, i) - fraction_of_claster_edges(G, C, i))**2\n",
    "    return res"
   ]
  },
  {
   "cell_type": "code",
   "execution_count": 7,
   "id": "0b09e4ae",
   "metadata": {},
   "outputs": [
    {
     "data": {
      "text/plain": [
       "0.19921104536489145"
      ]
     },
     "execution_count": 7,
     "metadata": {},
     "output_type": "execute_result"
    }
   ],
   "source": [
    "G = graphs[0]\n",
    "\n",
    "C = [[node] for node in G.nodes()]\n",
    "\n",
    "modularity(G, C)"
   ]
  },
  {
   "cell_type": "markdown",
   "id": "212b6899",
   "metadata": {},
   "source": [
    "# Plain Greedy (PG) algorithm"
   ]
  },
  {
   "cell_type": "code",
   "execution_count": 40,
   "id": "4c246ffd",
   "metadata": {},
   "outputs": [
    {
     "name": "stdout",
     "output_type": "stream",
     "text": [
      "34\n",
      "34\n",
      "[15, 8, 9, 5, 2, 3, 3, 3, 4, 1, 2, 0, 1, 4, 1, 1, 1, 1, 1, 2, 1, 1, 1, 4, 2, 2, 1, 3, 2, 3, 3, 5, 11, 16]\n"
     ]
    }
   ],
   "source": [
    "#G.nodes()\n",
    "#list(G.neighbors(5))\n",
    "\n",
    "#Initialize\n",
    "e=[]\n",
    "a=[]\n",
    "for node in G.nodes():\n",
    "    e.append([])\n",
    "    for neighbor in list(G.neighbors(node)):\n",
    "        e[node-1].append(1/(2*len(G.edges())))\n",
    "    sum=0\n",
    "    for x in range(len(e[node-1])):\n",
    "        sum+=x\n",
    "    a.append(x)\n",
    "\n",
    "#Just to check whether everything is okay.\n",
    "print(len(G.nodes()))\n",
    "print(len(a))\n",
    "print(a)\n",
    "\n",
    "#Build Dendrogram (Greedy)\n"
   ]
  },
  {
   "cell_type": "markdown",
   "id": "21c58b8b",
   "metadata": {},
   "source": [
    "# Randomized Greedy (RG) algorithm"
   ]
  },
  {
   "cell_type": "code",
   "execution_count": null,
   "id": "028425a2",
   "metadata": {},
   "outputs": [],
   "source": []
  }
 ],
 "metadata": {
  "kernelspec": {
   "display_name": "Python 3 (ipykernel)",
   "language": "python",
   "name": "python3"
  },
  "language_info": {
   "codemirror_mode": {
    "name": "ipython",
    "version": 3
   },
   "file_extension": ".py",
   "mimetype": "text/x-python",
   "name": "python",
   "nbconvert_exporter": "python",
   "pygments_lexer": "ipython3",
   "version": "3.8.10"
  }
 },
 "nbformat": 4,
 "nbformat_minor": 5
}
