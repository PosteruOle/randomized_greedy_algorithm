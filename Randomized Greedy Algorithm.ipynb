{
 "cells": [
  {
   "cell_type": "markdown",
   "id": "4f1cf077",
   "metadata": {},
   "source": [
    "# Randomized Greedy Algorithm\n",
    "\n",
    "Reference paper: Michael Ovelgonne and Andreas Geyer-Schulz, *Cluster Cores and Modularity Maximization*, IEEE International Conference on Data Mining Workshops, 2010"
   ]
  },
  {
   "cell_type": "markdown",
   "id": "0c2df830",
   "metadata": {},
   "source": [
    "Let $G = (V, E)$ be an undirected, loop-free graph and $C = \\{C_1, . . . , C_p\\}$ a non-overlapping clustering, i.e. a clustering of the vertices of the graph into groups $C_i$ so that $\\forall i, j : i \\neq j \\implies C_i \\cap C_j = \\emptyset$ and $\\cup_i C_i = V$. We denote the adjacency matrix of $G$ as $M$ and the element of $M$ in the\n",
    "$i$-th row and $j$-th column as $m_{ij}$ , where $m_{ij} = m_{ji} = 1$ if $(v_i, v_j) \\in E$ and otherwise $m_{ij} = m_{ji} = 0$. The modularity $Q$ of the clustering $C$ is\n",
    "\n",
    "$$Q = \\sum_i (e_{ii} - a_i^2)$$\n",
    "with\n",
    "$$e_{ij} = \\frac{\\sum_{v_x \\in C_i}\\sum_{v_y \\in C_j} m_{xy}}{\\sum_{v_x \\in V}\\sum_{v_y \\in V} m_{xy}}$$\n",
    "and\n",
    "$$a_i = \\sum_j e_{ij}.$$\n",
    "\n",
    "Objective: Find clastering $C$ such that modularity $Q$ is maximized."
   ]
  },
  {
   "cell_type": "code",
   "execution_count": 13,
   "id": "d5bba78f",
   "metadata": {},
   "outputs": [],
   "source": [
    "import numpy as np\n",
    "import networkx as nx"
   ]
  },
  {
   "cell_type": "markdown",
   "id": "802e8bb5",
   "metadata": {},
   "source": [
    "### Loading instances"
   ]
  },
  {
   "cell_type": "code",
   "execution_count": 14,
   "id": "4c279916",
   "metadata": {},
   "outputs": [],
   "source": [
    "def load_graph(file_path):\n",
    "    with open(file_path, 'r') as file:\n",
    "        lines = file.readlines()\n",
    "        \n",
    "        tokens = lines[0].split()\n",
    "        n, m = int(tokens[0]), int(tokens[1])\n",
    "                        \n",
    "        G = nx.Graph()\n",
    "    \n",
    "        nodes = np.arange(1, n + 1)\n",
    "        G.add_nodes_from(nodes)\n",
    "        \n",
    "        for i in range(1, n + 1):\n",
    "            neighbours = map(int, lines[i].split())\n",
    "            for j in neighbours:\n",
    "                G.add_edge(i, j)\n",
    "                \n",
    "        return G"
   ]
  },
  {
   "cell_type": "code",
   "execution_count": 15,
   "id": "ec6660e1",
   "metadata": {},
   "outputs": [],
   "source": [
    "file_paths = ['Instances/karate.graph', 'Instances/football.graph', 'Instances/netscience.graph', 'Instances/PGPgiantcompo.graph']\n",
    "graphs = []\n",
    "\n",
    "for file_path in file_paths:\n",
    "        graphs.append(load_graph(file_path))"
   ]
  },
  {
   "cell_type": "markdown",
   "id": "50a10068",
   "metadata": {},
   "source": [
    "### Modularity function"
   ]
  },
  {
   "cell_type": "code",
   "execution_count": 24,
   "id": "9cad4419",
   "metadata": {},
   "outputs": [],
   "source": [
    "def number_of_connecting_edges(G, C, i, j):\n",
    "    res = 0\n",
    "    for u in C[i]:\n",
    "        for v in C[j]:\n",
    "            if G.has_edge(u, v):\n",
    "                res += 1\n",
    "    return res\n",
    "\n",
    "def number_of_claster_edges(G, C, i):\n",
    "    res = 0\n",
    "    number_of_clasters = len(C)\n",
    "    for j in range(1, number_of_clasters + 1):\n",
    "        res += number_of_connecting_edges(G, C, i, j)\n",
    "    return res\n",
    "\n",
    "def fraction_of_connecting_edges(G, C, i, j):\n",
    "    return number_of_connecting_edges(G, C, i, j) / G.number_of_edges()\n",
    "        \n",
    "def fraction_of_claster_edges(G, C, i):\n",
    "    return number_of_claster_edges(G, C, i) / G.number_of_edges()\n",
    "\n",
    "def modularity(G, C):\n",
    "    res = 0.0\n",
    "    number_of_clasters = len(C)\n",
    "    for i in range(1, number_of_clasters + 1):\n",
    "        res += (fraction_of_connecting_edges(G, C, i, i) - fraction_of_claster_edges(G, C, i))**2\n",
    "    return res"
   ]
  },
  {
   "cell_type": "code",
   "execution_count": 26,
   "id": "0b09e4ae",
   "metadata": {},
   "outputs": [
    {
     "data": {
      "text/plain": [
       "0.19921104536489145"
      ]
     },
     "execution_count": 26,
     "metadata": {},
     "output_type": "execute_result"
    }
   ],
   "source": [
    "G = graphs[0]\n",
    "\n",
    "C = {node: [node] for node in G.nodes()}\n",
    "\n",
    "modularity(G, C)"
   ]
  },
  {
   "cell_type": "markdown",
   "id": "5eff95b8",
   "metadata": {},
   "source": [
    "# Plain Greedy (PG) algorithm"
   ]
  },
  {
   "cell_type": "code",
   "execution_count": 29,
   "id": "e71ef9d9-b7fc-4043-b32f-c5c4468cb925",
   "metadata": {},
   "outputs": [],
   "source": [
    "def has_connecting_edge(G, C, i, j):\n",
    "    for v in C[i]:\n",
    "        for u in C[j]:\n",
    "            if G.has_edge(u, v):\n",
    "                return True\n",
    "    return False\n",
    "\n",
    "def join(G, C, joins):\n",
    "    for (i, j) in joins:\n",
    "        "
   ]
  },
  {
   "cell_type": "code",
   "execution_count": 41,
   "id": "e6a83a05-91b7-4024-860b-06862e6df976",
   "metadata": {},
   "outputs": [
    {
     "name": "stdout",
     "output_type": "stream",
     "text": [
      "{1: [1], 2: [2], 3: [3], 4: [4], 5: [5], 6: [6], 7: [7], 8: [8], 9: [9], 10: [10], 11: [11], 12: [12], 13: [13], 14: [14], 15: [15], 16: [16], 17: [17], 18: [18], 19: [19], 20: [20], 21: [21], 22: [22], 23: [23], 24: [24], 25: [25], 26: [26], 27: [27], 28: [28], 29: [29], 30: [30], 31: [31], 32: [32], 33: [33], 34: [34]}\n"
     ]
    },
    {
     "data": {
      "text/plain": [
       "[(6, 17),\n",
       " (7, 17),\n",
       " (27, 30),\n",
       " (5, 11),\n",
       " (25, 26),\n",
       " (4, 13),\n",
       " (5, 7),\n",
       " (6, 11),\n",
       " (25, 28),\n",
       " (24, 26),\n",
       " (1, 12),\n",
       " (6, 7),\n",
       " (2, 18),\n",
       " (2, 22),\n",
       " (25, 32),\n",
       " (26, 32),\n",
       " (29, 32),\n",
       " (3, 10),\n",
       " (9, 31),\n",
       " (24, 28),\n",
       " (24, 30),\n",
       " (4, 8),\n",
       " (15, 33),\n",
       " (16, 33),\n",
       " (19, 33),\n",
       " (21, 33),\n",
       " (23, 33),\n",
       " (2, 20),\n",
       " (3, 29),\n",
       " (4, 14),\n",
       " (1, 13),\n",
       " (1, 18),\n",
       " (1, 22),\n",
       " (10, 34)]"
      ]
     },
     "execution_count": 41,
     "metadata": {},
     "output_type": "execute_result"
    }
   ],
   "source": [
    "# Initialising clasters\n",
    "C = {node: [node] for node in G.nodes()}\n",
    "print(C)\n",
    "joins = []\n",
    "\n",
    "for _ in range(len(C)):\n",
    "    next_join = (0, 0)\n",
    "    max_delta_Q = -float('inf')\n",
    "    for i in C:\n",
    "        for j in C:\n",
    "            if i >= j or (i, j) in joins:\n",
    "                continue\n",
    "            if not has_connecting_edge(G, C, i, j):\n",
    "                continue\n",
    "            delta_Q = 2 * (fraction_of_connecting_edges(G, C, i, j) - fraction_of_claster_edges(G, C, i) * fraction_of_claster_edges(G, C, j))\n",
    "            if max_delta_Q < delta_Q:\n",
    "                max_delta_Q = delta_Q\n",
    "                next_join = (i, j)\n",
    "    joins.append(next_join)\n",
    "\n",
    "join(C, joins)"
   ]
  },
  {
   "cell_type": "code",
   "execution_count": null,
   "id": "8ceddca6-81b9-4d81-8ab5-eac169872026",
   "metadata": {},
   "outputs": [],
   "source": []
  },
  {
   "cell_type": "code",
   "execution_count": 36,
   "id": "0f7e5477",
   "metadata": {},
   "outputs": [
    {
     "name": "stdout",
     "output_type": "stream",
     "text": [
      "[15, 8, 9, 5, 2, 3, 3, 3, 4, 1, 2, 0, 1, 4, 1, 1, 1, 1, 1, 2, 1, 1, 1, 4, 2, 2, 1, 3, 2, 3, 3, 5, 11, 16]\n"
     ]
    }
   ],
   "source": [
    "#G.nodes()\n",
    "#list(G.neighbors(5))\n",
    "e=[]\n",
    "a=[]\n",
    "for node in G.nodes():\n",
    "    e.append([])\n",
    "    for neighbor in list(G.neighbors(node)):\n",
    "        e[node-1].append(1/(2*len(G.edges())))\n",
    "    sum=0\n",
    "    for x in range(len(e[node-1])):\n",
    "        sum+=x\n",
    "    a.append(x)\n",
    "print(a)    "
   ]
  },
  {
   "cell_type": "markdown",
   "id": "7ee694a0",
   "metadata": {},
   "source": [
    "# Randomized Greedy (RG)"
   ]
  }
 ],
 "metadata": {
  "kernelspec": {
   "display_name": "Python 3 (ipykernel)",
   "language": "python",
   "name": "python3"
  },
  "language_info": {
   "codemirror_mode": {
    "name": "ipython",
    "version": 3
   },
   "file_extension": ".py",
   "mimetype": "text/x-python",
   "name": "python",
   "nbconvert_exporter": "python",
   "pygments_lexer": "ipython3",
   "version": "3.11.3"
  }
 },
 "nbformat": 4,
 "nbformat_minor": 5
}
