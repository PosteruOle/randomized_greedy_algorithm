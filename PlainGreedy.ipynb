{
 "cells": [
  {
   "cell_type": "code",
   "execution_count": 9,
   "id": "fc383918",
   "metadata": {},
   "outputs": [
    {
     "ename": "NetworkXError",
     "evalue": "nbunch is not a node or a sequence of nodes.",
     "output_type": "error",
     "traceback": [
      "\u001b[0;31m---------------------------------------------------------------------------\u001b[0m",
      "\u001b[0;31mTypeError\u001b[0m                                 Traceback (most recent call last)",
      "File \u001b[0;32m~/.local/lib/python3.8/site-packages/networkx/classes/graph.py:2010\u001b[0m, in \u001b[0;36mGraph.nbunch_iter.<locals>.bunch_iter\u001b[0;34m(nlist, adj)\u001b[0m\n\u001b[1;32m   2009\u001b[0m \u001b[38;5;28;01mtry\u001b[39;00m:\n\u001b[0;32m-> 2010\u001b[0m     \u001b[38;5;28;01mfor\u001b[39;00m n \u001b[38;5;129;01min\u001b[39;00m nlist:\n\u001b[1;32m   2011\u001b[0m         \u001b[38;5;28;01mif\u001b[39;00m n \u001b[38;5;129;01min\u001b[39;00m adj:\n",
      "\u001b[0;31mTypeError\u001b[0m: 'int' object is not iterable",
      "\nDuring handling of the above exception, another exception occurred:\n",
      "\u001b[0;31mNetworkXError\u001b[0m                             Traceback (most recent call last)",
      "Cell \u001b[0;32mIn[9], line 39\u001b[0m\n\u001b[1;32m     36\u001b[0m G \u001b[38;5;241m=\u001b[39m nx\u001b[38;5;241m.\u001b[39mkarate_club_graph()\n\u001b[1;32m     37\u001b[0m \u001b[38;5;66;03m#print(G.nodes())\u001b[39;00m\n\u001b[1;32m     38\u001b[0m \u001b[38;5;66;03m#print(G.edges())\u001b[39;00m\n\u001b[0;32m---> 39\u001b[0m clusters \u001b[38;5;241m=\u001b[39m \u001b[43mplain_greedy_clustering\u001b[49m\u001b[43m(\u001b[49m\u001b[43mG\u001b[49m\u001b[43m)\u001b[49m\n\u001b[1;32m     40\u001b[0m \u001b[38;5;28mprint\u001b[39m(clusters)\n",
      "Cell \u001b[0;32mIn[9], line 25\u001b[0m, in \u001b[0;36mplain_greedy_clustering\u001b[0;34m(graph)\u001b[0m\n\u001b[1;32m     23\u001b[0m \u001b[38;5;28;01mfor\u001b[39;00m j \u001b[38;5;129;01min\u001b[39;00m \u001b[38;5;28mrange\u001b[39m(i \u001b[38;5;241m+\u001b[39m \u001b[38;5;241m1\u001b[39m, \u001b[38;5;28mlen\u001b[39m(clusters)):\n\u001b[1;32m     24\u001b[0m     merged_clusters \u001b[38;5;241m=\u001b[39m clusters[:i] \u001b[38;5;241m+\u001b[39m [clusters[i] \u001b[38;5;241m+\u001b[39m clusters[j]] \u001b[38;5;241m+\u001b[39m clusters[i \u001b[38;5;241m+\u001b[39m \u001b[38;5;241m1\u001b[39m:j] \u001b[38;5;241m+\u001b[39m clusters[j \u001b[38;5;241m+\u001b[39m \u001b[38;5;241m1\u001b[39m:]\n\u001b[0;32m---> 25\u001b[0m     delta_modularity \u001b[38;5;241m=\u001b[39m \u001b[43mcalculate_modularity\u001b[49m\u001b[43m(\u001b[49m\u001b[43mmerged_clusters\u001b[49m\u001b[43m,\u001b[49m\u001b[43m \u001b[49m\u001b[43mgraph\u001b[49m\u001b[43m)\u001b[49m \u001b[38;5;241m-\u001b[39m calculate_modularity(clusters, graph)\n\u001b[1;32m     26\u001b[0m     \u001b[38;5;28;01mif\u001b[39;00m delta_modularity \u001b[38;5;241m>\u001b[39m max_delta_modularity:\n\u001b[1;32m     27\u001b[0m         max_delta_modularity \u001b[38;5;241m=\u001b[39m delta_modularity\n",
      "Cell \u001b[0;32mIn[9], line 12\u001b[0m, in \u001b[0;36mplain_greedy_clustering.<locals>.calculate_modularity\u001b[0;34m(clusters, graph)\u001b[0m\n\u001b[1;32m     10\u001b[0m m \u001b[38;5;241m=\u001b[39m graph\u001b[38;5;241m.\u001b[39mnumber_of_edges()\n\u001b[1;32m     11\u001b[0m \u001b[38;5;28;01mfor\u001b[39;00m cluster \u001b[38;5;129;01min\u001b[39;00m clusters:\n\u001b[0;32m---> 12\u001b[0m     subgraph \u001b[38;5;241m=\u001b[39m \u001b[43mgraph\u001b[49m\u001b[38;5;241;43m.\u001b[39;49m\u001b[43msubgraph\u001b[49m\u001b[43m(\u001b[49m\u001b[43mcluster\u001b[49m\u001b[43m)\u001b[49m\n\u001b[1;32m     13\u001b[0m     l_c \u001b[38;5;241m=\u001b[39m subgraph\u001b[38;5;241m.\u001b[39mnumber_of_edges()\n\u001b[1;32m     14\u001b[0m     d_c \u001b[38;5;241m=\u001b[39m \u001b[38;5;28msum\u001b[39m(\u001b[38;5;28mdict\u001b[39m(subgraph\u001b[38;5;241m.\u001b[39mdegree())\u001b[38;5;241m.\u001b[39mvalues())\n",
      "File \u001b[0;32m~/.local/lib/python3.8/site-packages/networkx/classes/graph.py:1820\u001b[0m, in \u001b[0;36mGraph.subgraph\u001b[0;34m(self, nodes)\u001b[0m\n\u001b[1;32m   1763\u001b[0m \u001b[38;5;28;01mdef\u001b[39;00m \u001b[38;5;21msubgraph\u001b[39m(\u001b[38;5;28mself\u001b[39m, nodes):\n\u001b[1;32m   1764\u001b[0m \u001b[38;5;250m    \u001b[39m\u001b[38;5;124;03m\"\"\"Returns a SubGraph view of the subgraph induced on `nodes`.\u001b[39;00m\n\u001b[1;32m   1765\u001b[0m \n\u001b[1;32m   1766\u001b[0m \u001b[38;5;124;03m    The induced subgraph of the graph contains the nodes in `nodes`\u001b[39;00m\n\u001b[0;32m   (...)\u001b[0m\n\u001b[1;32m   1818\u001b[0m \u001b[38;5;124;03m    [(0, 1), (1, 2)]\u001b[39;00m\n\u001b[1;32m   1819\u001b[0m \u001b[38;5;124;03m    \"\"\"\u001b[39;00m\n\u001b[0;32m-> 1820\u001b[0m     induced_nodes \u001b[38;5;241m=\u001b[39m \u001b[43mnx\u001b[49m\u001b[38;5;241;43m.\u001b[39;49m\u001b[43mfilters\u001b[49m\u001b[38;5;241;43m.\u001b[39;49m\u001b[43mshow_nodes\u001b[49m\u001b[43m(\u001b[49m\u001b[38;5;28;43mself\u001b[39;49m\u001b[38;5;241;43m.\u001b[39;49m\u001b[43mnbunch_iter\u001b[49m\u001b[43m(\u001b[49m\u001b[43mnodes\u001b[49m\u001b[43m)\u001b[49m\u001b[43m)\u001b[49m\n\u001b[1;32m   1821\u001b[0m     \u001b[38;5;66;03m# if already a subgraph, don't make a chain\u001b[39;00m\n\u001b[1;32m   1822\u001b[0m     subgraph \u001b[38;5;241m=\u001b[39m nx\u001b[38;5;241m.\u001b[39mgraphviews\u001b[38;5;241m.\u001b[39msubgraph_view\n",
      "File \u001b[0;32m~/.local/lib/python3.8/site-packages/networkx/classes/filters.py:52\u001b[0m, in \u001b[0;36mshow_nodes.__init__\u001b[0;34m(self, nodes)\u001b[0m\n\u001b[1;32m     51\u001b[0m \u001b[38;5;28;01mdef\u001b[39;00m \u001b[38;5;21m__init__\u001b[39m(\u001b[38;5;28mself\u001b[39m, nodes):\n\u001b[0;32m---> 52\u001b[0m     \u001b[38;5;28mself\u001b[39m\u001b[38;5;241m.\u001b[39mnodes \u001b[38;5;241m=\u001b[39m \u001b[38;5;28;43mset\u001b[39;49m\u001b[43m(\u001b[49m\u001b[43mnodes\u001b[49m\u001b[43m)\u001b[49m\n",
      "File \u001b[0;32m~/.local/lib/python3.8/site-packages/networkx/classes/graph.py:2025\u001b[0m, in \u001b[0;36mGraph.nbunch_iter.<locals>.bunch_iter\u001b[0;34m(nlist, adj)\u001b[0m\n\u001b[1;32m   2021\u001b[0m \u001b[38;5;28;01mif\u001b[39;00m \u001b[38;5;124m\"\u001b[39m\u001b[38;5;124mhashable\u001b[39m\u001b[38;5;124m\"\u001b[39m \u001b[38;5;129;01min\u001b[39;00m message:\n\u001b[1;32m   2022\u001b[0m     exc \u001b[38;5;241m=\u001b[39m NetworkXError(\n\u001b[1;32m   2023\u001b[0m         \u001b[38;5;124mf\u001b[39m\u001b[38;5;124m\"\u001b[39m\u001b[38;5;124mNode \u001b[39m\u001b[38;5;132;01m{\u001b[39;00mn\u001b[38;5;132;01m}\u001b[39;00m\u001b[38;5;124m in sequence nbunch is not a valid node.\u001b[39m\u001b[38;5;124m\"\u001b[39m\n\u001b[1;32m   2024\u001b[0m     )\n\u001b[0;32m-> 2025\u001b[0m \u001b[38;5;28;01mraise\u001b[39;00m exc\n",
      "\u001b[0;31mNetworkXError\u001b[0m: nbunch is not a node or a sequence of nodes."
     ]
    }
   ],
   "source": [
    "import networkx as nx\n",
    "\n",
    "def plain_greedy_clustering(graph):\n",
    "    # Initialize each node as its own cluster\n",
    "    clusters = list(graph.nodes())\n",
    "\n",
    "    # Function to calculate modularity for a given clustering\n",
    "    def calculate_modularity(clusters, graph):\n",
    "        modularity = 0\n",
    "        m = graph.number_of_edges()\n",
    "        for cluster in clusters:\n",
    "            subgraph = graph.subgraph(cluster)\n",
    "            l_c = subgraph.number_of_edges()\n",
    "            d_c = sum(dict(subgraph.degree()).values())\n",
    "            modularity += (l_c / (2 * m)) - ((d_c / (2 * m)) ** 2)\n",
    "        return modularity\n",
    "\n",
    "    # Main loop: merge nodes to maximize modularity\n",
    "    while True:\n",
    "        max_delta_modularity = 0\n",
    "        best_clusters = clusters[:]\n",
    "        for i in range(len(clusters)):\n",
    "            for j in range(i + 1, len(clusters)):\n",
    "                merged_clusters = clusters[:i] + [clusters[i] + clusters[j]] + clusters[i + 1:j] + clusters[j + 1:]\n",
    "                delta_modularity = calculate_modularity(merged_clusters, graph) - calculate_modularity(clusters, graph)\n",
    "                if delta_modularity > max_delta_modularity:\n",
    "                    max_delta_modularity = delta_modularity\n",
    "                    best_clusters = merged_clusters[:]\n",
    "        if max_delta_modularity <= 0:\n",
    "            break\n",
    "        clusters = best_clusters\n",
    "\n",
    "    return clusters\n",
    "\n",
    "# Example usage:\n",
    "G = nx.karate_club_graph()\n",
    "#print(G.nodes())\n",
    "#print(G.edges())\n",
    "clusters = plain_greedy_clustering(G)\n",
    "print(clusters)\n"
   ]
  },
  {
   "cell_type": "code",
   "execution_count": null,
   "id": "3c36e8c4",
   "metadata": {},
   "outputs": [],
   "source": []
  }
 ],
 "metadata": {
  "kernelspec": {
   "display_name": "Python 3 (ipykernel)",
   "language": "python",
   "name": "python3"
  },
  "language_info": {
   "codemirror_mode": {
    "name": "ipython",
    "version": 3
   },
   "file_extension": ".py",
   "mimetype": "text/x-python",
   "name": "python",
   "nbconvert_exporter": "python",
   "pygments_lexer": "ipython3",
   "version": "3.8.10"
  }
 },
 "nbformat": 4,
 "nbformat_minor": 5
}
