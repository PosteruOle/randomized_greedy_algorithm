{
 "cells": [
  {
   "cell_type": "markdown",
   "id": "4f1cf077",
   "metadata": {},
   "source": [
    "# Randomized Greedy Algorithm\n",
    "\n",
    "Reference paper: Michael Ovelgonne and Andreas Geyer-Schulz, *Cluster Cores and Modularity Maximization*, IEEE International Conference on Data Mining Workshops, 2010"
   ]
  },
  {
   "cell_type": "markdown",
   "id": "0c2df830",
   "metadata": {},
   "source": [
    "## Formulacija problema\n",
    "\n",
    "Neka je $G = (V, E)$ neusmereni graf, bez petlji i neka je $\\mathcal{C} = \\{C_1, \\ldots, C_p\\}$ nepreklapajuće klasterovanje, tj. klasterovanje čvorova grafa u grupe $C_i$ tako da $\\forall i, j : i \\neq j \\implies C_i \\cap C_j = \\emptyset$ i $\\cup_i C_i = V$.\n",
    "Neka je $M$ matrica susedstva grafa $G$ (važi $m_{ij} = m_{ji} = 1$ ako $(v_i, v_j) \\in E$, inače $m_{ij} = m_{ji} = 0$). \n",
    "\n",
    "Definišemo odnos broja grana koje povezuju klastere $C_i$ i $C_j$ i ukupnog broja grana kao \n",
    "$$e_{ij} = \\frac{\\sum_{v_x \\in C_i} \\sum_{v_y \\in C_j} m_{xy}}{\\sum_{v_x \\in V} \\sum_{v_y \\in V} m_{xy}}.$$\n",
    "Odnos broja grana u klasteru $C_i$ i ukupnog broja grana je $e_{ii}$.\n",
    "Odnos stepen klastera $C_i$ (broj grana koje su incidentne sa bar jedanim čvorom iz klastera $C_i$) i ukupnog broja grana je dat sa\n",
    "$$a_i = \\sum_j e_{ij}.$$\n",
    "\n",
    "Neka je $\\mathcal{G}$ skup grafova sa istim čvorovima kao i graf $G$, pri čemu je stepen svakog čvora isti kao i u grafu $G$. Verovatnoća da se nasumična grana $(v_s, v_e)$ grafa iz $\\mathcal{G}$ nađe u $C_i$ je data sa\n",
    "$$P((v_s \\in C_i) \\land (v_e \\in C_i)) = P(v_s \\in C_i) P(v_e \\in C_i) = a_i a_i = a_i^2.$$\n",
    "\n",
    "Mera modularnosti nenasumičnosti klasterovanja može biti data kao\n",
    "$$Q = \\sum_i e_{ii} - a_i^2,$$\n",
    "čiji je optimizacioni problem\n",
    "$$\\max_{\\mathcal{C}} Q.$$\n",
    "Ovaj problem je NP-težak."
   ]
  },
  {
   "cell_type": "markdown",
   "id": "76d5686d-ea8f-48cd-a78e-ec1c3a17190e",
   "metadata": {},
   "source": [
    "## Drugi radovi\n",
    "\n",
    "- Agarwal and Kempe: ILP (engl. Integer Linear Programming) formulacija\n",
    "- Brendes et al.: ILP formulacija\n",
    "- Agarwal and Kempe: LP (engl. Linear Programming) formulacija\n",
    "  - Korisna za pronalaženje gornjih granica.\n",
    "- Metaheuristike: Extremal optimization, simulated annealing, mean field annealing, tabu search, ground-state energy of spin system, stectral algorithms.\n",
    "- Sakupljajuće klasterovanje: Počinjemo od pojedinačnih klastera (svaki klaster sadriži po jedan čvor). Iterativno spajamo po dva klastera sve dok ne ostane samo jedan klaster (koji sadriži sve čvorove). Ovim postupkom nasteje dendrogram (dijagram predstavlja drvo, gde svaki čvor predstavlja po jedno spajanje, a listovi pojedinačne elemente). Iz dendrograma biramo klasterovanje koje ima najveću modularnost.\n",
    "  - Newman: U svakoj iteraciji spajamo dva klastera koja najviše utiču na promenu mere modularnosti.\n",
    "  - Clauset et al.: Koriste Newman-ovu ideju ali je implementiraju na optimizovaniji način (PG (engl. Plain Greedy) algoritam).\n",
    "  - Schuetz and Caflisch: MSG algritam (engl. MultiStep Greedy)\n",
    "    - Mnogi parovi klaster su ekvivalentni u odnosu na promenu modularnosti pri njihovom spajanju.\n",
    "    - U svakoj iteraciji spajamo sve parove klastera čije je promena modularnosti u $l$ najvećih.\n",
    "    - Teško je odrediti parametar $l$.\n",
    "  - Zhu et al.: MOME algoritam (coarsened graphs)\n",
    "  - Blondel et al.: MSG algoritam BGLL koji ima dve faze u svakoj iteraciji:\n",
    "    1. Prolazi kroz čvorove grafa gde svaki čvor pomera u susedni klaster tako da se poboljša modularnost sve dok ne dostignem lokalni optimum.\n",
    "    2. Svaki klaster se transformiše u jedan čvor sa odgovarajućim težinskim granama."
   ]
  },
  {
   "cell_type": "markdown",
   "id": "e9999b48-51a3-4719-953d-71092c4672c3",
   "metadata": {},
   "source": [
    "### Učitavanje biblioteka"
   ]
  },
  {
   "cell_type": "code",
   "execution_count": 1,
   "id": "d5bba78f",
   "metadata": {},
   "outputs": [],
   "source": [
    "import numpy as np\n",
    "import networkx as nx\n",
    "from matplotlib import pyplot as plt"
   ]
  },
  {
   "cell_type": "markdown",
   "id": "802e8bb5",
   "metadata": {},
   "source": [
    "### Učitavanje instanci"
   ]
  },
  {
   "cell_type": "code",
   "execution_count": 2,
   "id": "4c279916",
   "metadata": {},
   "outputs": [],
   "source": [
    "def load_graph(file_path):\n",
    "    with open(file_path, 'r') as file:\n",
    "        lines = file.readlines()\n",
    "        \n",
    "        tokens = lines[0].split()\n",
    "        n, m = int(tokens[0]), int(tokens[1])\n",
    "                        \n",
    "        G = nx.Graph()\n",
    "    \n",
    "        nodes = np.arange(1, n + 1)\n",
    "        G.add_nodes_from(nodes)\n",
    "        \n",
    "        for i in range(1, n + 1):\n",
    "            neighbours = map(int, lines[i].split())\n",
    "            for j in neighbours:\n",
    "                G.add_edge(i, j)\n",
    "                \n",
    "        return G"
   ]
  },
  {
   "cell_type": "code",
   "execution_count": 3,
   "id": "ec6660e1",
   "metadata": {},
   "outputs": [],
   "source": [
    "file_paths = ['Instances/karate.graph', 'Instances/football.graph', 'Instances/netscience.graph', 'Instances/PGPgiantcompo.graph']\n",
    "graphs = []\n",
    "\n",
    "for file_path in file_paths:\n",
    "        graphs.append(load_graph(file_path))"
   ]
  },
  {
   "cell_type": "markdown",
   "id": "50a10068",
   "metadata": {},
   "source": [
    "### Ciljna funkcija modularnosti"
   ]
  },
  {
   "cell_type": "code",
   "execution_count": 4,
   "id": "9cad4419",
   "metadata": {},
   "outputs": [],
   "source": [
    "def number_of_connecting_edges(G, C, i, j):\n",
    "    res = 0.0\n",
    "    \n",
    "    for u in C[i]:\n",
    "        for v in C[j]:\n",
    "            if G.has_edge(u, v):\n",
    "                res += 1\n",
    "    return res\n",
    "\n",
    "def number_of_claster_edges(G, C, i):\n",
    "    res = 0.0\n",
    "    \n",
    "    for j in C:\n",
    "        res += number_of_connecting_edges(G, C, i, j)\n",
    "    \n",
    "    return res\n",
    "\n",
    "def fraction_of_connecting_edges(G, C, i, j):\n",
    "    return number_of_connecting_edges(G, C, i, j) / (2*G.number_of_edges())\n",
    "        \n",
    "def fraction_of_claster_edges(G, C, i):\n",
    "    return number_of_claster_edges(G, C, i) / (2*G.number_of_edges())\n",
    "\n",
    "def modularity(G, C):\n",
    "    res = 0.0\n",
    "    \n",
    "    for i in C:\n",
    "        res += (fraction_of_connecting_edges(G, C, i, i) - fraction_of_claster_edges(G, C, i)**2)\n",
    "        \n",
    "    return res"
   ]
  },
  {
   "cell_type": "code",
   "execution_count": 5,
   "id": "0b09e4ae",
   "metadata": {},
   "outputs": [
    {
     "name": "stdout",
     "output_type": "stream",
     "text": [
      "{1: [1], 2: [2], 3: [3], 4: [4], 5: [5], 6: [6], 7: [7], 8: [8], 9: [9], 10: [10], 11: [11], 12: [12], 13: [13], 14: [14], 15: [15], 16: [16], 17: [17], 18: [18], 19: [19], 20: [20], 21: [21], 22: [22], 23: [23], 24: [24], 25: [25], 26: [26], 27: [27], 28: [28], 29: [29], 30: [30], 31: [31], 32: [32], 33: [33], 34: [34]}\n"
     ]
    },
    {
     "data": {
      "text/plain": [
       "-0.04980276134122286"
      ]
     },
     "execution_count": 5,
     "metadata": {},
     "output_type": "execute_result"
    }
   ],
   "source": [
    "G = graphs[0]\n",
    "\n",
    "C = {node: [node] for node in G.nodes()}\n",
    "print(C)\n",
    "modularity(G, C)"
   ]
  },
  {
   "cell_type": "markdown",
   "id": "5eff95b8",
   "metadata": {},
   "source": [
    "## Plain Greedy (PG) algoritam\n",
    "\n",
    "Sakupljajuće klasterovanje: Počinjemo od pojedinačnih klastera (svaki klaster sadriži po jedan čvor). Iterativno spajamo po dva klastera sve dok ne ostane samo jedan klaster (koji sadriži sve čvorove). Ovim postupkom nasteje dendrogram (dijagram predstavlja drvo, gde svaki čvor predstavlja po jedno spajanje, a listovi pojedinačne elemente). Iz dendrograma biramo klasterovanje koje ima najveću modularnost.\n",
    "- Newman: U svakoj iteraciji spajamo dva klastera koja najviše utiču na promenu mere modularnosti.\n",
    "- Clauset et al.: Koriste Newman-ovu ideju ali je implementiraju na optimizovaniji način (PG (engl. Plain Greedy) algoritam)."
   ]
  },
  {
   "cell_type": "code",
   "execution_count": 6,
   "id": "e71ef9d9-b7fc-4043-b32f-c5c4468cb925",
   "metadata": {},
   "outputs": [
    {
     "name": "stdout",
     "output_type": "stream",
     "text": [
      "{1: [1], 2: [2], 3: [3], 4: [4], 5: [5], 6: [6], 7: [7], 8: [8], 9: [9], 10: [10], 11: [11], 12: [12], 13: [13], 14: [14], 15: [15], 16: [16], 17: [17], 18: [18], 19: [19], 20: [20], 21: [21], 22: [22], 23: [23], 24: [24], 25: [25], 26: [26], 27: [27], 28: [28], 29: [29], 30: [30], 31: [31], 32: [32], 33: [33], 34: [34]}\n",
      "{1: [1], 2: [2], 3: [3], 4: [4], 5: [5], 6: [6], 7: [7], 8: [8], 9: [9], 10: [10], 11: [11], 12: [12], 13: [13], 14: [14], 15: [15], 16: [16], 17: [17], 18: [18], 19: [19], 20: [20], 21: [21], 22: [22], 23: [23], 24: [24], 25: [25], 26: [26], 27: [27], 28: [28], 29: [29], 30: [30], 31: [31], 32: [32], 33: [33], 34: [34]}\n"
     ]
    }
   ],
   "source": [
    "def has_connecting_edge(G, C, i, j):\n",
    "    if (i not in C.keys()) or (j not in C.keys()):\n",
    "        print('The key you are looking for is removed from the dictionary while merging some clusters!')\n",
    "        return None\n",
    "    \n",
    "    for v in C[i]:\n",
    "        for u in C[j]:\n",
    "            if G.has_edge(u, v):\n",
    "                return True\n",
    "    return False\n",
    "\n",
    "def join_for_plain_greedy(G, C, i, j):\n",
    "    tmp=C[j]\n",
    "    C[i]+=tmp\n",
    "    C.pop(j)\n",
    "    \n",
    "def join(G, C, joins):\n",
    "    for i, j in joins:\n",
    "        join_for_plain_greedy(G, C, i, j)\n",
    "\n",
    "C = {node: [node] for node in G.nodes()}\n",
    "#join_for_plain_greedy(G, C, 1, 2)\n",
    "print(C)\n",
    "#join_for_plain_greedy(G,C, 3, 16)\n",
    "print(C)"
   ]
  },
  {
   "cell_type": "code",
   "execution_count": 7,
   "id": "e6a83a05-91b7-4024-860b-06862e6df976",
   "metadata": {},
   "outputs": [
    {
     "name": "stdout",
     "output_type": "stream",
     "text": [
      "{1: [1], 2: [2], 3: [3], 4: [4], 5: [5], 6: [6], 7: [7], 8: [8], 9: [9], 10: [10], 11: [11], 12: [12], 13: [13], 14: [14], 15: [15], 16: [16], 17: [17], 18: [18], 19: [19], 20: [20], 21: [21], 22: [22], 23: [23], 24: [24], 25: [25], 26: [26], 27: [27], 28: [28], 29: [29], 30: [30], 31: [31], 32: [32], 33: [33], 34: [34]}\n",
      "----------------------------------------------------------\n",
      "{1: [1, 6, 17, 7, 5, 11, 12, 20, 2, 18, 22, 3, 10, 4, 13, 8, 14, 9, 31, 33, 15, 16, 19, 24, 27, 30, 34, 28, 25, 26, 32, 29, 21, 23]}\n"
     ]
    }
   ],
   "source": [
    "# Initialising clasters\n",
    "C = {node: [node] for node in G.nodes()}\n",
    "print(C)\n",
    "print('----------------------------------------------------------')\n",
    "joins = []\n",
    "modularity_values=[]\n",
    "n=len(C)-1\n",
    "for _ in range(n):\n",
    "    next_join = (0, 0)\n",
    "    max_delta_Q = -float('inf')\n",
    "    modularity_values.append(modularity(G,C))\n",
    "    for i in C:\n",
    "        for j in C:\n",
    "            if i >= j or (i, j) in joins:\n",
    "                continue\n",
    "            if not has_connecting_edge(G, C, i, j):\n",
    "                continue\n",
    "            delta_Q = 2 * (fraction_of_connecting_edges(G, C, i, j) - fraction_of_claster_edges(G, C, i) * fraction_of_claster_edges(G, C, j))\n",
    "            if max_delta_Q < delta_Q:\n",
    "                max_delta_Q = delta_Q\n",
    "                next_join = (i, j)\n",
    "                #join(G, C, i, j)\n",
    "    joins.append(next_join)\n",
    "    if next_join==(0,0):\n",
    "        break\n",
    "    join_for_plain_greedy(G, C, next_join[0], next_join[1])\n",
    "\n",
    "#join(G, C, joins)\n",
    "print(C)"
   ]
  },
  {
   "cell_type": "code",
   "execution_count": 8,
   "id": "b22154bb",
   "metadata": {},
   "outputs": [
    {
     "data": {
      "text/plain": [
       "0.0"
      ]
     },
     "execution_count": 8,
     "metadata": {},
     "output_type": "execute_result"
    }
   ],
   "source": [
    "modularity(G, C)"
   ]
  },
  {
   "cell_type": "code",
   "execution_count": 9,
   "id": "8ceddca6-81b9-4d81-8ab5-eac169872026",
   "metadata": {},
   "outputs": [
    {
     "name": "stdout",
     "output_type": "stream",
     "text": [
      "1\n",
      "[-0.04980276134122286, -0.03763971071663379, -0.013971071663379351, -0.0014792899408283943, 0.017751479289940773, 0.04906311637080871, 0.06122616699539779, 0.07848454963839582, 0.09467455621301776, 0.11111111111111115, 0.12319197896120976, 0.1458744247205786, 0.1577087442472058, 0.16904996712689022, 0.1802268244575937, 0.1914036817882972, 0.20816896778435237, 0.21918145956607493, 0.2293721236028928, 0.2395627876397107, 0.2533694937541091, 0.2691485864562787, 0.28944773175542404, 0.29930966469428005, 0.3111439842209073, 0.3205128205128205, 0.32955292570677186, 0.3382642998027614, 0.34935897435897445, 0.3628369493754109, 0.3759861932938856, 0.3806706114398422, 0.3717948717948718]\n"
     ]
    },
    {
     "data": {
      "image/png": "[encoded data removed]",
      "text/plain": [
       "<Figure size 640x480 with 1 Axes>"
      ]
     },
     "metadata": {},
     "output_type": "display_data"
    }
   ],
   "source": [
    "l=[1,2,3]\n",
    "print(l[0])\n",
    "print(modularity_values)\n",
    "plt.plot(modularity_values)\n",
    "plt.show()"
   ]
  },
  {
   "cell_type": "code",
   "execution_count": 10,
   "id": "0f7e5477",
   "metadata": {},
   "outputs": [
    {
     "name": "stdout",
     "output_type": "stream",
     "text": [
      "[15, 8, 9, 5, 2, 3, 3, 3, 4, 1, 2, 0, 1, 4, 1, 1, 1, 1, 1, 2, 1, 1, 1, 4, 2, 2, 1, 3, 2, 3, 3, 5, 11, 16]\n"
     ]
    }
   ],
   "source": [
    "#G.nodes()\n",
    "#list(G.neighbors(5))\n",
    "e=[]\n",
    "a=[]\n",
    "for node in G.nodes():\n",
    "    e.append([])\n",
    "    for neighbor in list(G.neighbors(node)):\n",
    "        e[node-1].append(1/(2*len(G.edges())))\n",
    "    sum=0\n",
    "    for x in range(len(e[node-1])):\n",
    "        sum+=x\n",
    "    a.append(x)\n",
    "print(a)    "
   ]
  },
  {
   "cell_type": "markdown",
   "id": "7ee694a0",
   "metadata": {},
   "source": [
    "# Randomized Greedy (RG)\n",
    "\n",
    "Gramizivi algoritam uvek prati smer najvećeg pozitivnog gradijenta. Spajanje dva klaster $C_i$ i $C_j$ rezultuje u promeni modularnosit za\n",
    "$$\\Delta Q (i, j) = e_{ij} + e_{ji} - 2 a_i a_j = 2 (e_{ij} - a_i a_j).$$\n",
    "Povezivanjem dva nepovezana klaster $C_i$ i $C_j$ dobijamo negativnu promenu modularnosti, tj. $\\Delta Q(i, j) < 0$. \n",
    "\n",
    "Ideja za poboljšanje PG algoritma:\n",
    "1. Kretanje najstrmijim gradijentom ne garantuje pronalaženje dobrog rešenja.\n",
    "2. Mnoga spajanja klastera imaju iste promene modularnosti.\n",
    "\n",
    "RG algoritam pokušava da reši ove probleme: Interativno za $k$ nasumičnih klastera pretražuje njihove susede i bira one sa maksimalnom promenom modularnosit $\\Delta Q$. \n",
    "\n",
    "Gramzivo poboljšanje predstavlja postprocesiranje u kome se menja najbolje klasterovanje (ono sa najvećom merom modularnosti) iz dendrogram. Pomeranjem čvorova u susedne klastere ako rezultuje u pozitivnoj promeni modularnosit $\\Delta Q$. Postupak ponavljamo sve dok ima promene."
   ]
  },
  {
   "cell_type": "code",
   "execution_count": 11,
   "id": "8702ca73",
   "metadata": {},
   "outputs": [],
   "source": [
    "import sys\n",
    "import copy\n",
    "import numpy as np\n",
    "import random\n",
    "random.seed(7)"
   ]
  },
  {
   "cell_type": "code",
   "execution_count": 12,
   "id": "39a2f19e",
   "metadata": {},
   "outputs": [
    {
     "name": "stdout",
     "output_type": "stream",
     "text": [
      "-0.04980276134122286\n"
     ]
    }
   ],
   "source": [
    "# Initialising our graph!\n",
    "G = graphs[0]\n",
    "\n",
    "C = {node: [node] for node in G.nodes()}\n",
    "\n",
    "print(modularity(G, C))"
   ]
  },
  {
   "cell_type": "code",
   "execution_count": 13,
   "id": "ef2f9672",
   "metadata": {},
   "outputs": [
    {
     "name": "stdout",
     "output_type": "stream",
     "text": [
      "-------------------------------------------------------------------------\n",
      "{1: [1], 2: [2], 3: [3], 4: [4], 5: [5], 6: [6], 7: [7], 8: [8], 9: [9], 10: [10], 11: [11], 12: [12], 13: [13], 14: [14], 15: [15], 16: [16], 17: [17], 18: [18], 19: [19], 20: [20], 21: [21], 22: [22], 23: [23], 24: [24], 25: [25], 26: [26], 27: [27], 28: [28], 29: [29], 30: [30], 31: [31], 32: [32], 33: [33], 34: [34]}\n",
      "-------------------------------------------------------------------------\n",
      "1 2 3 4 5 6 7 8 9 10 11 12 13 14 15 16 17 18 19 20 21 22 23 24 25 26 27 28 29 30 31 32 33 34 -------------------------------------------------------------------------\n",
      "1 2 3 4 5 6 7 8 9 10 11 12 13 14 15 16 17 18 19 20 21 22 23 24 25 26 27 28 29 30 31 32 33 34 "
     ]
    }
   ],
   "source": [
    "print('-------------------------------------------------------------------------')\n",
    "print(C)\n",
    "print('-------------------------------------------------------------------------')\n",
    "for i in C:\n",
    "    print(i, end=' ')\n",
    "print('-------------------------------------------------------------------------')\n",
    "for i in C.keys():\n",
    "    print(i, end=' ')"
   ]
  },
  {
   "cell_type": "code",
   "execution_count": 14,
   "id": "a5432b21",
   "metadata": {},
   "outputs": [],
   "source": [
    "def join_for_randomized_greedy(G, C, i, j):\n",
    "    tmp=C[j]\n",
    "    C[i]+=tmp\n",
    "    C.pop(j)"
   ]
  },
  {
   "cell_type": "code",
   "execution_count": 15,
   "id": "c929ff5b",
   "metadata": {},
   "outputs": [],
   "source": [
    "# This function should pick k different clusters within the graph we are working with \n",
    "# and return the list of indeces of chosen clusters!\n",
    "def pick_k_random_clusters(G, C, k):\n",
    "    set_indexes=set()\n",
    "    result=[]\n",
    "    count = 0\n",
    "    n=len(C.keys())\n",
    "    if k>n:\n",
    "        print('There are not that many clusters in our graph!')\n",
    "        return None\n",
    "    while count < k:\n",
    "        p=random.randint(0, n)\n",
    "        if p not in set_indexes:\n",
    "            set_indexes.add(p)\n",
    "            count+=1\n",
    "            result.append(p)\n",
    "            \n",
    "    result.sort()\n",
    "    \n",
    "    return result  \n",
    "\n",
    "def pick_random_cluster(G, C):\n",
    "    help=list(C.keys())\n",
    "    n=len(C.keys())\n",
    "    return help[random.randint(0, n-1)]"
   ]
  },
  {
   "cell_type": "code",
   "execution_count": 16,
   "id": "4e0835a8",
   "metadata": {},
   "outputs": [
    {
     "name": "stdout",
     "output_type": "stream",
     "text": [
      "[3, 4, 9, 20, 25, 34]\n"
     ]
    }
   ],
   "source": [
    "# Here we just wanted to check the pick_k_random_clusters funtion!\n",
    "k_clusters=pick_k_random_clusters(G, C, 6)\n",
    "print(k_clusters)"
   ]
  },
  {
   "cell_type": "code",
   "execution_count": 17,
   "id": "942d9aa4",
   "metadata": {
    "scrolled": true
   },
   "outputs": [
    {
     "name": "stdout",
     "output_type": "stream",
     "text": [
      "{1: [1], 2: [2], 3: [3], 4: [4], 5: [5], 6: [6], 7: [7], 8: [8], 9: [9], 10: [10], 11: [11], 12: [12], 13: [13], 14: [14], 15: [15], 16: [16], 17: [17], 18: [18], 19: [19], 20: [20], 21: [21], 22: [22], 23: [23], 24: [24], 25: [25], 26: [26], 27: [27], 28: [28], 29: [29], 30: [30], 31: [31], 32: [32], 33: [33], 34: [34]}\n",
      "----------------------------------------------------------\n",
      "Iteration number:  1\n",
      "k =  1\n",
      "Iteration number:  2\n",
      "k =  1\n",
      "Iteration number:  3\n",
      "k =  1\n",
      "Iteration number:  4\n",
      "k =  1\n",
      "Iteration number:  5\n",
      "k =  1\n",
      "Iteration number:  6\n",
      "k =  1\n",
      "Iteration number:  7\n",
      "k =  1\n",
      "Iteration number:  8\n",
      "k =  1\n",
      "Iteration number:  9\n",
      "k =  1\n",
      "Iteration number:  10\n",
      "k =  1\n",
      "Iteration number:  11\n",
      "k =  1\n",
      "Iteration number:  12\n",
      "k =  1\n",
      "Iteration number:  13\n",
      "k =  1\n",
      "Iteration number:  14\n",
      "k =  1\n",
      "Iteration number:  15\n",
      "k =  1\n",
      "Iteration number:  16\n",
      "k =  1\n",
      "Iteration number:  17\n",
      "k =  1\n",
      "Iteration number:  18\n",
      "k =  2\n",
      "Iteration number:  19\n",
      "k =  2\n",
      "Iteration number:  20\n",
      "k =  2\n",
      "Iteration number:  21\n",
      "k =  2\n",
      "Iteration number:  22\n",
      "k =  2\n",
      "Iteration number:  23\n",
      "k =  2\n",
      "Iteration number:  24\n",
      "k =  2\n",
      "Iteration number:  25\n",
      "k =  2\n",
      "Iteration number:  26\n",
      "k =  2\n",
      "Iteration number:  27\n",
      "k =  2\n",
      "Iteration number:  28\n",
      "k =  2\n",
      "Iteration number:  29\n",
      "k =  2\n",
      "Iteration number:  30\n",
      "k =  2\n",
      "Iteration number:  31\n",
      "k =  2\n",
      "Iteration number:  32\n",
      "k =  2\n",
      "Iteration number:  33\n",
      "k =  2\n",
      "{29: [29, 32, 25, 26, 31, 9, 19, 23, 16, 28, 24, 21, 33, 15, 34, 30, 27, 10, 20, 2, 14, 3, 8, 4, 13, 18, 22, 12, 7, 17, 6, 5, 11, 1]}\n"
     ]
    }
   ],
   "source": [
    "# Initialising clasters\n",
    "C = {node: [node] for node in G.nodes()}\n",
    "print(C)\n",
    "print('----------------------------------------------------------')\n",
    "joins = []\n",
    "modularity_values=[]\n",
    "clusters_list=[]\n",
    "deleted=[]\n",
    "count=1\n",
    "n=len(C)\n",
    "for p in range(n-1):\n",
    "    next_join = (0, 0)\n",
    "    max_delta_Q = -float('inf')\n",
    "    if p < n//2:\n",
    "        k=1\n",
    "    else:\n",
    "        k=2\n",
    "    #random_k_clusters=pick_k_random_clusters(G, C, k)    \n",
    "    modularity_values.append(modularity(G, C))\n",
    "    clusters_list.append(copy.deepcopy(C))\n",
    "    print('Iteration number: ', str(count))\n",
    "    print('k = ', str(k))\n",
    "    #for i in random_k_clusters:\n",
    "    for _ in range(k):\n",
    "        i=pick_random_cluster(G, C)\n",
    "        for j in C.keys():\n",
    "            if i==j:\n",
    "                continue\n",
    "                \n",
    "            if not has_connecting_edge(G, C, i, j):\n",
    "                continue\n",
    "                \n",
    "            #print(str(i)+ ' ' +str(j))\n",
    "            \n",
    "            delta_Q = 2 * (fraction_of_connecting_edges(G, C, i, j) - fraction_of_claster_edges(G, C, i) * fraction_of_claster_edges(G, C, j))\n",
    "            if max_delta_Q < delta_Q:\n",
    "                max_delta_Q = delta_Q\n",
    "                next_join = (i, j)\n",
    "    joins.append(next_join)\n",
    "    if next_join==(0,0):\n",
    "        continue\n",
    "    join_for_randomized_greedy(G, C, next_join[0], next_join[1])\n",
    "    count+=1\n",
    "\n",
    "#join(G, C, joins)\n",
    "print(C)"
   ]
  },
  {
   "cell_type": "code",
   "execution_count": 18,
   "id": "55791cc0",
   "metadata": {},
   "outputs": [
    {
     "data": {
      "text/plain": [
       "0.0"
      ]
     },
     "execution_count": 18,
     "metadata": {},
     "output_type": "execute_result"
    }
   ],
   "source": [
    "modularity(G, C)"
   ]
  },
  {
   "cell_type": "code",
   "execution_count": 19,
   "id": "b9089293",
   "metadata": {},
   "outputs": [],
   "source": [
    "def RG(G, C):\n",
    "    joins = []\n",
    "    modularity_values=[]\n",
    "    clusters_list=[]\n",
    "    deleted=[]\n",
    "    count=1\n",
    "    n=len(C)\n",
    "    for p in range(n-1):\n",
    "        next_join = (0, 0)\n",
    "        max_delta_Q = -float('inf')\n",
    "        if p < n//2:\n",
    "            k=1\n",
    "        else:\n",
    "            k=2\n",
    "        \n",
    "        # The line below was our initial idea, but we found better solution!\n",
    "        #random_k_clusters=pick_k_random_clusters(G, C, k)\n",
    "        \n",
    "        modularity_values.append(modularity(G, C))\n",
    "        clusters_list.append(copy.deepcopy(C))\n",
    "        for _ in range(k):\n",
    "            i=pick_random_cluster(G, C)\n",
    "            for j in C.keys():\n",
    "                if i==j:\n",
    "                    continue\n",
    "\n",
    "                if not has_connecting_edge(G, C, i, j):\n",
    "                    continue\n",
    "\n",
    "                delta_Q = 2 * (fraction_of_connecting_edges(G, C, i, j) - fraction_of_claster_edges(G, C, i) * fraction_of_claster_edges(G, C, j))\n",
    "                if max_delta_Q < delta_Q:\n",
    "                    max_delta_Q = delta_Q\n",
    "                    next_join = (i, j)\n",
    "        joins.append(next_join)\n",
    "        if next_join==(0,0):\n",
    "            continue\n",
    "        join_for_randomized_greedy(G, C, next_join[0], next_join[1])\n",
    "        count+=1\n",
    "    \n",
    "    # We inserted some code here!\n",
    "    # This part represent greedy refinement work!\n",
    "    change=True\n",
    "    count=1\n",
    "    previous=None\n",
    "    while change:\n",
    "        change=False\n",
    "        for v in G.nodes():\n",
    "            current_cluster=find_coresponding_cluster(G, C, v)\n",
    "            best_delta_Q=0\n",
    "            star_cluster=None\n",
    "            for neighbor_cluster in neighbor_clusters(G, C, v, current_cluster):\n",
    "                delta_Q=move_delta_Q(G, C, v, current_cluster, neighbor_cluster)\n",
    "                if delta_Q > best_delta_Q:\n",
    "                    best_delta_Q=delta_Q\n",
    "                    star_cluster=neighbor_cluster\n",
    "            if best_delta_Q > 0:\n",
    "                previous=C\n",
    "                #print('Here!')\n",
    "                move(G, C, v, current_cluster, star_cluster)\n",
    "                change=True\n",
    "        count+=1           \n",
    "    \n",
    "    modularity_values=np.array(modularity_values)\n",
    "    max_index=modularity_values.argmax()\n",
    "    \n",
    "    return clusters_list[max_index]"
   ]
  },
  {
   "cell_type": "markdown",
   "id": "2fbb33ac",
   "metadata": {},
   "source": [
    "### Greedy refinement\n",
    "\n",
    "Gramzivo poboljšanje predstavlja postprocesiranje u kome se menja najbolje klasterovanje (ono sa najvećom merom modularnosti) iz dendrogram. Pomeranjem čvorova u susedne klastere ako rezultuje u pozitivnoj promeni modularnosit $\\Delta Q$. Postupak ponavljamo sve dok ima promene."
   ]
  },
  {
   "cell_type": "code",
   "execution_count": 20,
   "id": "544cd2af",
   "metadata": {},
   "outputs": [
    {
     "name": "stdout",
     "output_type": "stream",
     "text": [
      "0.39464168310322156\n",
      "30\n",
      "{10: [10, 20, 2, 14, 3, 8, 4, 13], 18: [18, 22, 12, 7, 17, 6, 5, 11, 1], 29: [29, 32, 25, 26], 31: [31, 9, 19, 23, 16, 28, 24, 21, 33, 15, 34, 30, 27]}\n"
     ]
    }
   ],
   "source": [
    "print(max(modularity_values))\n",
    "modularity_values=np.array(modularity_values)\n",
    "max_index=modularity_values.argmax()\n",
    "print(max_index)\n",
    "print(clusters_list[max_index])"
   ]
  },
  {
   "cell_type": "code",
   "execution_count": 21,
   "id": "b0b1d12b",
   "metadata": {},
   "outputs": [
    {
     "name": "stdout",
     "output_type": "stream",
     "text": [
      "[-0.04980276 -0.03763971 -0.02555884 -0.01372452 -0.0028764   0.00772518\n",
      "  0.01791584  0.03369494  0.04577581  0.0562952   0.07240302  0.0901545\n",
      "  0.10675542  0.13042406  0.14176529  0.15384615  0.18704799  0.19723866\n",
      "  0.22189349  0.23504274  0.25378041  0.27218935  0.29026956  0.29766601\n",
      "  0.31886917  0.33004602  0.35272847  0.35979619  0.3768902   0.38823143\n",
      "  0.39464168  0.38535503  0.37179487]\n"
     ]
    },
    {
     "data": {
      "image/png": "[encoded data removed]",
      "text/plain": [
       "<Figure size 640x480 with 1 Axes>"
      ]
     },
     "metadata": {},
     "output_type": "display_data"
    }
   ],
   "source": [
    "print(modularity_values)\n",
    "plt.plot(modularity_values)\n",
    "plt.show()"
   ]
  },
  {
   "cell_type": "code",
   "execution_count": 22,
   "id": "aaa5c576",
   "metadata": {},
   "outputs": [],
   "source": [
    "def find_coresponding_cluster(G, C, v):\n",
    "    for k in C.keys():\n",
    "         if v in C[k]:\n",
    "                return k\n",
    "    return None        \n",
    "def move_delta_Q(G, C, v, cc, nc):\n",
    "    Q1=modularity(G, C)\n",
    "    CC=copy.deepcopy(C)\n",
    "    CC[cc].remove(v)\n",
    "    CC[nc].append(v)\n",
    "    Q2=modularity(G, CC)\n",
    "    return Q2-Q1\n",
    "\n",
    "def neighbor_clusters(G, C, v, cc):            \n",
    "    result=[]\n",
    "    for k in C.keys():\n",
    "        if k==cc:\n",
    "            continue\n",
    "        for x in C[k]:\n",
    "            if (x, v) in G.edges() or (v, x) in G.edges():\n",
    "                result.append(k)\n",
    "    return result   \n",
    "def move(G, C, v, cc, nc):\n",
    "    C[cc].remove(v)\n",
    "    C[nc].append(v)"
   ]
  },
  {
   "cell_type": "code",
   "execution_count": 23,
   "id": "ee444128",
   "metadata": {},
   "outputs": [
    {
     "name": "stdout",
     "output_type": "stream",
     "text": [
      "[(1, 2), (1, 3), (1, 4), (1, 5), (1, 6), (1, 7), (1, 8), (1, 9), (1, 11), (1, 12), (1, 13), (1, 14), (1, 18), (1, 20), (1, 22), (1, 32), (2, 3), (2, 4), (2, 8), (2, 14), (2, 18), (2, 20), (2, 22), (2, 31), (3, 4), (3, 8), (3, 9), (3, 10), (3, 14), (3, 28), (3, 29), (3, 33), (4, 8), (4, 13), (4, 14), (5, 7), (5, 11), (6, 7), (6, 11), (6, 17), (7, 17), (9, 31), (9, 33), (9, 34), (10, 34), (14, 34), (15, 33), (15, 34), (16, 33), (16, 34), (19, 33), (19, 34), (20, 34), (21, 33), (21, 34), (23, 33), (23, 34), (24, 26), (24, 28), (24, 30), (24, 33), (24, 34), (25, 26), (25, 28), (25, 32), (26, 32), (27, 30), (27, 34), (28, 34), (29, 32), (29, 34), (30, 33), (30, 34), (31, 33), (31, 34), (32, 33), (32, 34), (33, 34)]\n",
      "0.39464168310322156\n",
      "----------------------------------------------------------\n",
      "{10: [10, 20, 2, 14, 3, 8, 4, 13], 18: [18, 22, 12, 7, 17, 6, 5, 11, 1], 29: [29, 32, 25, 26], 31: [31, 9, 19, 23, 16, 28, 24, 21, 33, 15, 34, 30, 27]}\n",
      "Number of nodes in graph G is equal to:  34\n"
     ]
    }
   ],
   "source": [
    "print(G.edges())\n",
    "print(max(modularity_values))\n",
    "C=clusters_list[max_index]\n",
    "print('----------------------------------------------------------')\n",
    "print(C)\n",
    "print('Number of nodes in graph G is equal to: ', len(G.nodes()))"
   ]
  },
  {
   "cell_type": "code",
   "execution_count": 24,
   "id": "0f05ad6d",
   "metadata": {},
   "outputs": [
    {
     "name": "stdout",
     "output_type": "stream",
     "text": [
      "Iteration number:  1\n",
      "Here!\n",
      "Here!\n",
      "Iteration number:  2\n",
      "Here!\n",
      "Iteration number:  3\n",
      "{10: [10, 20, 2, 14, 3, 8, 4], 18: [18, 22, 12, 7, 17, 6, 5, 11, 1, 13], 29: [29, 32, 25, 26, 28, 24], 31: [31, 9, 19, 23, 16, 21, 33, 15, 34, 30, 27]}\n",
      "0.3981755424063116\n"
     ]
    }
   ],
   "source": [
    "change=True\n",
    "count=1\n",
    "previous=None\n",
    "while change:\n",
    "    print('Iteration number: ', count)\n",
    "    change=False\n",
    "    for v in G.nodes():\n",
    "        current_cluster=find_coresponding_cluster(G, C, v)\n",
    "        best_delta_Q=0\n",
    "        star_cluster=None\n",
    "        for neighbor_cluster in neighbor_clusters(G, C, v, current_cluster):\n",
    "            delta_Q=move_delta_Q(G, C, v, current_cluster, neighbor_cluster)\n",
    "            if delta_Q > best_delta_Q:\n",
    "                best_delta_Q=delta_Q\n",
    "                star_cluster=neighbor_cluster\n",
    "        if best_delta_Q > 0:\n",
    "            previous=C\n",
    "            print('Here!')\n",
    "            move(G, C, v, current_cluster, star_cluster)\n",
    "            change=True\n",
    "    count+=1        \n",
    "print(C) \n",
    "print(modularity(G, C))"
   ]
  },
  {
   "cell_type": "markdown",
   "id": "62f4ef5d",
   "metadata": {},
   "source": [
    "### Problem lokalnosti\n",
    "\n",
    "Promena modularnosti $\\Delta Q$ određuje koja dva klastera spojiti u odnosu na to kako su njihovi susedi već povezani.\n",
    "\n",
    "Postupak spajanja je balansiran ako svi klasteri rastu podjednako, tj. veličina klastera nije korelisana sa verovatnoćom da klaster bude spojen u sledećem koraku. Maksimalnu nebalansiranost dobijamo kada jedan klaster raste, dok svi ostali ostaju pojedinačni.\n",
    "\n",
    "Posledica nebalansiranog postupka spajanja je mreža gde su neki delovi mnogo više povezani od drugih, što direktno utiče na lokalnu pretragu gramzivog algoritma. Npr, svi susedi $v_2, v_3, v_4, v_5$ čvora $v_1$ imaju isti stepen, te je zbog toga $\\Delta Q(v_1, v_j)$ isto za svako $j = 2, 3, 4, 5$. Ako su $v_2$ i $v_3$ već spojeni onda $\\Delta Q(\\{v_1\\}, \\{v_2, v_3\\}) > \\Delta Q(\\{v_1\\}, \\{v_4\\}) = \\Delta Q (\\{v_1\\}, \\{v_5\\})$. Međutim, ako su $v_4$ i $v_5$ već spojeni, onda $\\Delta Q(\\{v_1\\}, \\{v_4, v_5\\}) > \\Delta Q(\\{v_1\\}, \\{v_2\\}) = \\Delta Q(\\{v_1\\}, \\{v_3\\})$.\n",
    "\n",
    "## Optimized randomized greedy algorithm (RG+ algorithm) \n",
    "\n",
    "Identifikovanje ključnih grupa. Svi čvorovi koji su povezani samo čvorovima istog klastera su unutrašnji čvorovi u datom kasteru. Svi čvorovi koji su povezani sa bar jednim čvorom drugog klastera su granični čvorovu u datom klasteru. \n",
    "\n",
    "Pretpostavka: Neki čvorovi će pripadati istoj grupi u svim mogućim klasterovanjima grafa. Identifikacija takvih čvorova i građenje odgovarajućih grupa dovodi do boljeg klasterovanja grafa. \n",
    "\n",
    "Neka je $\\mathcal{P}^* = \\{C^{*1}, \\ldots, C^{*x}\\}$ set svih klasterovanja gde je $Q(C^{*t})$ lokalni optimum. Tražimo par čvorova $v_i, v_j$ koji su deo nekog klastera za sva lokalno optimalna klasterovanja, tj. $\\forall_x : v_i \\in C_k^{*t} \\implies v_j \\in C_k^{*t}$. Algoritam delimo u dve faze:\n",
    "1. Određivanje ključnih grupa: Naravno nije moguće izračunati $P^{*}$, jer bi tada znali klasterovanje sa maksimalnom modularnošću. Zbog toga, koristimo mali uzorak od $z$ klasterovanja sa visokom modularnošću. Njih je moguće dobiti pokretanjem RG algoritma (za svako inicijalno klasterovanje po jednom). Od inicijalnih klasterovanja, pravimo ključne grupe, tako što uzmemo prvo klasterovanje kao trenutni skup ključnih grupa. Iterativno delimo trenutni skup ključnih grupa pomoću novog klasterovanja. Neka je $g_{v_x, t}$  ključna grupa čvora $v_x$ u trenutku $t$ i $C_t(v_x)$ klaster čvora $v_x$ u klasterovanju $C_t$. Čvorovi $v_x$ i $v_y$ su u istorj trenutnoj ključnoj grupi nakon $t$ razdvajanja akko $g_{v_x, t-1} = g_{v_y, t-1} \\land C_t(v_x) = C_t(v_y)$.\n",
    "2. Klasterovanje ključnih grupa: Pokrenemo RG algoritam gde su ključne grupe početno klasterovanje."
   ]
  },
  {
   "cell_type": "code",
   "execution_count": 25,
   "id": "bba6ac08",
   "metadata": {},
   "outputs": [],
   "source": [
    "import math"
   ]
  },
  {
   "cell_type": "code",
   "execution_count": 26,
   "id": "b27be72d",
   "metadata": {},
   "outputs": [
    {
     "name": "stdout",
     "output_type": "stream",
     "text": [
      "-0.04980276134122286\n",
      "{1: [1], 2: [2], 3: [3], 4: [4], 5: [5], 6: [6], 7: [7], 8: [8], 9: [9], 10: [10], 11: [11], 12: [12], 13: [13], 14: [14], 15: [15], 16: [16], 17: [17], 18: [18], 19: [19], 20: [20], 21: [21], 22: [22], 23: [23], 24: [24], 25: [25], 26: [26], 27: [27], 28: [28], 29: [29], 30: [30], 31: [31], 32: [32], 33: [33], 34: [34]}\n"
     ]
    }
   ],
   "source": [
    "# Initialising our graph!\n",
    "G = graphs[0]\n",
    "\n",
    "C = {node: [node] for node in G.nodes()}\n",
    "\n",
    "print(modularity(G, C))\n",
    "print(C)"
   ]
  },
  {
   "cell_type": "code",
   "execution_count": 27,
   "id": "9d614045",
   "metadata": {},
   "outputs": [
    {
     "name": "stdout",
     "output_type": "stream",
     "text": [
      "3\n",
      "{12: [12, 1, 7, 17, 6, 11, 5, 13, 18, 20], 22: [22, 14, 10, 3, 8, 4, 2], 25: [25, 26, 28, 24, 29, 32, 21, 30, 27, 19, 23, 16, 34, 31, 9, 33, 15]}\n",
      "-----------------------------------------------------------------------------------------------\n",
      "{6: [6, 7, 17, 5, 11], 12: [12, 22, 13, 4, 8, 14, 2, 18, 1, 3, 20], 15: [15, 19, 9, 31, 21, 16, 23, 33, 34, 10, 30, 27], 24: [24, 28, 25, 26, 32, 29]}\n",
      "-----------------------------------------------------------------------------------------------\n",
      "{11: [11, 5, 17, 6, 7], 12: [12, 20, 3, 10, 4, 8, 18, 22, 2, 1, 14, 13], 15: [15, 19, 16, 23, 21, 33, 34, 30, 27, 9, 31], 32: [32, 28, 24, 26, 25, 29]}\n",
      "-----------------------------------------------------------------------------------------------\n",
      "3\n"
     ]
    }
   ],
   "source": [
    "# The first part of the Fast Randomized Greedy algorithm!\n",
    "z=int(math.log(len(G.nodes())))\n",
    "print(str(z))\n",
    "optimal_clusterings=[]\n",
    "#modularity_values, clustering_list=RG(G, C)\n",
    "#z=20\n",
    "\n",
    "for i in range(z):\n",
    "    C = {node: [node] for node in G.nodes()}\n",
    "    optimal_clusterings.append(RG(G,C))\n",
    "for clustering in optimal_clusterings:\n",
    "    print(clustering)\n",
    "    print('-----------------------------------------------------------------------------------------------')\n",
    "print(len(optimal_clusterings))"
   ]
  },
  {
   "cell_type": "code",
   "execution_count": 28,
   "id": "d5e75181",
   "metadata": {},
   "outputs": [],
   "source": [
    "# This is the function that would be used in the second part of \n",
    "# the Fast Randomized Greedy algorithm implementation!\n",
    "def merge_clusterings(core_clustering, current_clustering):\n",
    "    new_core_clustering={}        \n",
    "    index=1\n",
    "    \n",
    "    # This way we will identify core clusters!\n",
    "    for k1 in core_clustering.keys():\n",
    "        for k2 in current_clustering.keys():\n",
    "            \n",
    "            tmp_set=[x for x in core_clustering[k1] if x in current_clustering[k2]]\n",
    "            \n",
    "            if(len(tmp_set))!=0:\n",
    "                new_core_clustering[index]=tmp_set\n",
    "                index+=1\n",
    "    \n",
    "    return new_core_clustering        "
   ]
  },
  {
   "cell_type": "code",
   "execution_count": 29,
   "id": "45aa797b",
   "metadata": {},
   "outputs": [
    {
     "name": "stdout",
     "output_type": "stream",
     "text": [
      "Lists are not identical!\n"
     ]
    }
   ],
   "source": [
    "# Just to check something!\n",
    "l1=[1, 2, 9, 4, 4, 4]\n",
    "l2=[1, 2, 6, 7, 9]\n",
    "l3=[1, 2, 4, 5]\n",
    "if l1==l2:\n",
    "    print('Lists are identical!')\n",
    "else:\n",
    "    print('Lists are not identical!')\n",
    "\n",
    "if l1<l3:\n",
    "    print('Wow, we can do that too!')"
   ]
  },
  {
   "cell_type": "code",
   "execution_count": 30,
   "id": "9071a7d8",
   "metadata": {},
   "outputs": [
    {
     "name": "stdout",
     "output_type": "stream",
     "text": [
      "{12: [12, 1, 7, 17, 6, 11, 5, 13, 18, 20], 22: [22, 14, 10, 3, 8, 4, 2], 25: [25, 26, 28, 24, 29, 32, 21, 30, 27, 19, 23, 16, 34, 31, 9, 33, 15]}\n",
      "--------------------------------------------------------------------\n",
      "{6: [6, 7, 17, 5, 11], 12: [12, 22, 13, 4, 8, 14, 2, 18, 1, 3, 20], 15: [15, 19, 9, 31, 21, 16, 23, 33, 34, 10, 30, 27], 24: [24, 28, 25, 26, 32, 29]}\n",
      "-----------------------------------------------------------------\n",
      "{11: [11, 5, 17, 6, 7], 12: [12, 20, 3, 10, 4, 8, 18, 22, 2, 1, 14, 13], 15: [15, 19, 16, 23, 21, 33, 34, 30, 27, 9, 31], 32: [32, 28, 24, 26, 25, 29]}\n",
      "-----------------------------------------------------------------\n",
      "{1: [7, 17, 6, 11, 5], 2: [12, 1, 13, 18, 20], 3: [22, 14, 3, 8, 4, 2], 4: [10], 5: [21, 30, 27, 19, 23, 16, 34, 31, 9, 33, 15], 6: [25, 26, 28, 24, 29, 32]}\n"
     ]
    }
   ],
   "source": [
    "# The second part of the Fast Randomized Greedy algorithm!\n",
    "core_clustering=optimal_clusterings[0]\n",
    "print(core_clustering)\n",
    "print('--------------------------------------------------------------------')\n",
    "for i in range(1, len(optimal_clusterings)):\n",
    "    print(optimal_clusterings[i])\n",
    "    print('-----------------------------------------------------------------')\n",
    "    core_clustering=merge_clusterings(core_clustering, optimal_clusterings[i])\n",
    "print(core_clustering)    "
   ]
  },
  {
   "cell_type": "code",
   "execution_count": 31,
   "id": "b407322a",
   "metadata": {},
   "outputs": [
    {
     "name": "stdout",
     "output_type": "stream",
     "text": [
      "{1: [7, 17, 6, 11, 5, 12, 1, 13, 18, 20], 3: [22, 14, 3, 8, 4, 2], 4: [10], 5: [21, 30, 27, 19, 23, 16, 34, 31, 9, 33, 15], 6: [25, 26, 28, 24, 29, 32]}\n",
      "0.3911900065746219\n"
     ]
    }
   ],
   "source": [
    "# Here is the modularity we get when we apply RG algorithm after we applied RG+!\n",
    "# We get better results which was our intention at the first place!\n",
    "X=RG(G, core_clustering)\n",
    "print(X)\n",
    "print(modularity(G, X))"
   ]
  },
  {
   "cell_type": "code",
   "execution_count": 32,
   "id": "38bbe9e3",
   "metadata": {},
   "outputs": [
    {
     "name": "stdout",
     "output_type": "stream",
     "text": [
      "{11: [11, 5, 6, 17, 7], 22: [22, 18, 14, 20, 12, 1, 2, 10, 3, 13, 8, 4], 31: [31, 9, 16, 19, 24, 27, 30, 34, 23, 21, 33, 15, 29, 32, 28, 25, 26]}\n",
      "0.4020381328073636\n"
     ]
    }
   ],
   "source": [
    "# Here is the modularity we receive after applying RG algorithm on initial clustering state!\n",
    "# As you can see, we got lower modularity value in comparison with aboce cell!\n",
    "G = graphs[0]\n",
    "\n",
    "C = {node: [node] for node in G.nodes()}\n",
    "X=RG(G, C)\n",
    "print(X)\n",
    "print(modularity(G, X))"
   ]
  },
  {
   "cell_type": "code",
   "execution_count": 33,
   "id": "9ccc5ee2",
   "metadata": {},
   "outputs": [],
   "source": [
    "# In this cell we will sumarize whole work of RG+ algorithm!\n",
    "def fast_RG(G, C):\n",
    "    # The first part of the Fast Randomized Greedy algorithm!\n",
    "    z=int(math.log(len(G.nodes())))\n",
    "    #z=20\n",
    "    optimal_clusterings=[]\n",
    "    for i in range(z):\n",
    "        C = {node: [node] for node in G.nodes()}\n",
    "        optimal_clusterings.append(RG(G,C))\n",
    "    \n",
    "    # Some extra outputs we used to track the work of RG+ algorithm!\n",
    "    #print(optimal_clusterings) \n",
    "    #print(len(optimal_clusterings))\n",
    "    \n",
    "    # The second part of the Fast Randomized Greedy algorithm!\n",
    "    core_clustering=optimal_clusterings[0]\n",
    "    for i in range(1, len(optimal_clusterings)):\n",
    "        core_clustering=merge_clusterings(core_clustering, optimal_clusterings[i])\n",
    "    \n",
    "    #print(core_clustering) \n",
    "    core_clustering=RG(G, core_clustering)\n",
    "    \n",
    "    return core_clustering"
   ]
  },
  {
   "cell_type": "markdown",
   "id": "12f3aa53",
   "metadata": {},
   "source": [
    "# Testing results of RG and RG+ to see which one works better!"
   ]
  },
  {
   "cell_type": "code",
   "execution_count": 35,
   "id": "7c315a1e",
   "metadata": {},
   "outputs": [
    {
     "name": "stdout",
     "output_type": "stream",
     "text": [
      "The number of graphs we are working with is equal to:  4\n",
      "----------------------------------------------------\n",
      "We are processing graph number  1 !\n",
      "This graph contains  34  nodes!\n",
      "This graph contains  78  edges!\n",
      "\tGraph number  1 is processed!\n",
      "Total score for RG+ algortihm:  57\n",
      "Total score for RG algorithm:  43\n",
      "----------------------------------------------------\n",
      "We are processing graph number  2 !\n",
      "This graph contains  115  nodes!\n",
      "This graph contains  613  edges!\n",
      "\tGraph number  2 is processed!\n",
      "Total score for RG+ algortihm:  88\n",
      "Total score for RG algorithm:  12\n",
      "----------------------------------------------------\n",
      "We are processing graph number  3 !\n",
      "This graph contains  1589  nodes!\n",
      "This graph contains  2742  edges!\n",
      "----------------------------------------------------\n",
      "We are processing graph number  4 !\n",
      "This graph contains  10680  nodes!\n",
      "This graph contains  24316  edges!\n",
      "Number of pairs we will process is equal to:  200\n"
     ]
    },
    {
     "data": {
      "image/png": "[encoded data removed]",
      "text/plain": [
       "<Figure size 640x480 with 1 Axes>"
      ]
     },
     "metadata": {},
     "output_type": "display_data"
    },
    {
     "name": "stdout",
     "output_type": "stream",
     "text": [
      "----------------------------------------------------\n"
     ]
    },
    {
     "data": {
      "image/png": "[encoded data removed]",
      "text/plain": [
       "<Figure size 640x480 with 1 Axes>"
      ]
     },
     "metadata": {},
     "output_type": "display_data"
    },
    {
     "name": "stdout",
     "output_type": "stream",
     "text": [
      "Average for RG+ is equal to:  0.4929059596335229\n",
      "Average for RG is equal to:  0.4748082267628753\n"
     ]
    }
   ],
   "source": [
    "print('The number of graphs we are working with is equal to: ', len(graphs))\n",
    "pairs_of_results=[]\n",
    "count=1\n",
    "graph_list=[graphs[0], graphs[1]]\n",
    "for G in graphs:\n",
    "    print('----------------------------------------------------')\n",
    "    print('We are processing graph number ', count, '!')\n",
    "    print('This graph contains ', len(G.nodes()), ' nodes!')\n",
    "    print('This graph contains ', len(G.edges()), ' edges!')\n",
    "    \n",
    "    if G==graphs[2] or G==graphs[3]:\n",
    "        count+=1\n",
    "        continue\n",
    "    \n",
    "    fast_rg_points=0\n",
    "    rg_points=0\n",
    "    for i in range(100):\n",
    "        C1={node: [node] for node in G.nodes()}\n",
    "        C2={node: [node] for node in G.nodes()}\n",
    "        rg_result=RG(G,C1)\n",
    "        fast_rg_result=fast_RG(G, C2)\n",
    "        if modularity(G, fast_rg_result)>modularity(G, rg_result):\n",
    "            fast_rg_points+=1\n",
    "        else:\n",
    "            rg_points+=1    \n",
    "        pairs_of_results.append((modularity(G, fast_rg_result), modularity(G, rg_result)))\n",
    "    print('\\tGraph number ', count, 'is processed!')\n",
    "    print('Total score for RG+ algortihm: ', fast_rg_points)\n",
    "    print('Total score for RG algorithm: ', rg_points)\n",
    "    count+=1\n",
    "    \n",
    "\n",
    "print('Number of pairs we will process is equal to: ', len(pairs_of_results))        \n",
    "plt.plot([pair[0] for pair in pairs_of_results])\n",
    "plt.title('RG+ modularity values!')\n",
    "plt.show()\n",
    "\n",
    "print('----------------------------------------------------')\n",
    "\n",
    "plt.plot([pair[1] for pair in pairs_of_results])\n",
    "plt.title('RG modularity values!')\n",
    "plt.show()\n",
    "\n",
    "average_for_fast_rg=np.array([pair[0] for pair in pairs_of_results])\n",
    "average_for_rg=np.array([pair[1] for pair in pairs_of_results])\n",
    "print('Average for RG+ is equal to: ', end=' ')\n",
    "print(np.mean(average_for_fast_rg))\n",
    "print('Average for RG is equal to: ', end=' ')\n",
    "print(np.mean(average_for_rg)) "
   ]
  },
  {
   "cell_type": "code",
   "execution_count": null,
   "id": "420ba789",
   "metadata": {},
   "outputs": [],
   "source": []
  }
 ],
 "metadata": {
  "kernelspec": {
   "display_name": "Python 3 (ipykernel)",
   "language": "python",
   "name": "python3"
  },
  "language_info": {
   "codemirror_mode": {
    "name": "ipython",
    "version": 3
   },
   "file_extension": ".py",
   "mimetype": "text/x-python",
   "name": "python",
   "nbconvert_exporter": "python",
   "pygments_lexer": "ipython3",
   "version": "3.8.10"
  }
 },
 "nbformat": 4,
 "nbformat_minor": 5
}
